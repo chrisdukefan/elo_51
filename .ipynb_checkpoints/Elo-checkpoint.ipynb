{
 "cells": [
  {
   "cell_type": "code",
   "execution_count": 3,
   "metadata": {
    "collapsed": true
   },
   "outputs": [],
   "source": [
    "import pandas"
   ]
  },
  {
   "cell_type": "code",
   "execution_count": 1,
   "metadata": {
    "collapsed": false
   },
   "outputs": [
    {
     "name": "stdout",
     "output_type": "stream",
     "text": [
      "0.6804878048780488\n",
      "{'Atlanta Hawks': (1673.7496607075623, datetime.datetime(2015, 4, 15, 0, 0), 82), 'Utah Jazz': (1599.1931925764977, datetime.datetime(2015, 4, 15, 0, 0), 82), 'Toronto Raptors': (1613.1788957208312, datetime.datetime(2015, 4, 15, 0, 0), 82), 'Memphis Grizzlies': (1645.0571382888506, datetime.datetime(2015, 4, 15, 0, 0), 82), 'Boston Celtics': (1588.2511610189729, datetime.datetime(2015, 4, 15, 0, 0), 82), 'Washington Wizards': (1589.4723277415155, datetime.datetime(2015, 4, 15, 0, 0), 82), 'Dallas Mavericks': (1624.3967742406862, datetime.datetime(2015, 4, 15, 0, 0), 82), 'Chicago Bulls': (1627.9193374262886, datetime.datetime(2015, 4, 15, 0, 0), 82), 'Indiana Pacers': (1584.6924014580395, datetime.datetime(2015, 4, 15, 0, 0), 82), 'Cleveland Cavaliers': (1658.8567597076396, datetime.datetime(2015, 4, 15, 0, 0), 82), 'Phoenix Suns': (1566.8018396605733, datetime.datetime(2015, 4, 14, 0, 0), 82), 'Sacramento Kings': (1507.0002607020242, datetime.datetime(2015, 4, 15, 0, 0), 82), 'Orlando Magic': (1478.8836939726352, datetime.datetime(2015, 4, 15, 0, 0), 82), 'Minnesota Timberwolves': (1428.6424958101993, datetime.datetime(2015, 4, 15, 0, 0), 82), 'New Orleans Pelicans': (1603.4088059848302, datetime.datetime(2015, 4, 15, 0, 0), 82), 'Denver Nuggets': (1523.398775990044, datetime.datetime(2015, 4, 15, 0, 0), 82), 'San Antonio Spurs': (1696.0390371503706, datetime.datetime(2015, 4, 15, 0, 0), 82), 'Miami Heat': (1556.0114617679938, datetime.datetime(2015, 4, 15, 0, 0), 82), 'Milwaukee Bucks': (1580.2605856048501, datetime.datetime(2015, 4, 15, 0, 0), 82), 'Charlotte Hornets': (1524.7439787269157, datetime.datetime(2015, 4, 15, 0, 0), 82), 'Los Angeles Clippers': (1685.6832482177424, datetime.datetime(2015, 4, 14, 0, 0), 82), 'Portland Trail Blazers': (1628.9715848120215, datetime.datetime(2015, 4, 15, 0, 0), 82), 'Detroit Pistons': (1545.49792740559, datetime.datetime(2015, 4, 15, 0, 0), 82), 'New York Knicks': (1430.4699991809796, datetime.datetime(2015, 4, 15, 0, 0), 82), 'Brooklyn Nets': (1560.2638123109641, datetime.datetime(2015, 4, 15, 0, 0), 82), 'Los Angeles Lakers': (1454.2990687222771, datetime.datetime(2015, 4, 15, 0, 0), 82), 'Philadelphia 76ers': (1447.8847844078891, datetime.datetime(2015, 4, 15, 0, 0), 82), 'Oklahoma City Thunder': (1628.0616186776547, datetime.datetime(2015, 4, 15, 0, 0), 82), 'Houston Rockets': (1663.6176705451358, datetime.datetime(2015, 4, 15, 0, 0), 82), 'Golden State Warriors': (1745.291701462425, datetime.datetime(2015, 4, 15, 0, 0), 82)}\n"
     ]
    }
   ],
   "source": [
    "import pandas\n",
    "import numpy as np\n",
    "import datetime\n",
    "def score_elo(hp1,hp2,hp3,hp4,csv): # define a new function that takes in hyperparameter values and returns the percent of games correctly predicted\n",
    "    data = pandas.read_csv(csv)\n",
    "    ID = {}\n",
    "    outcomes = []\n",
    "    for idx, row in data.iterrows():\n",
    "        if data.loc[idx,'PTS']>data.loc[idx,'PTS.1']:\n",
    "            winner = data.loc[idx,'Visitor/Neutral']; loser = data.loc[idx,'Home/Neutral'];\n",
    "            pd = data.loc[idx,'PTS'] - data.loc[idx,'PTS.1']; hm_i = 0\n",
    "        else:\n",
    "            winner = data.loc[idx,'Home/Neutral']; loser = data.loc[idx,'Visitor/Neutral'];\n",
    "            pd = data.loc[idx,'PTS.1'] - data.loc[idx,'PTS'];hm_i = 1\n",
    "        game_date = datetime.datetime.strptime(data.loc[idx][\"Date\"],\"%a, %b %d, %Y\")\n",
    "        if winner in ID.keys():\n",
    "            w_elo = ID[winner][0]\n",
    "            if (ID[winner][1] - game_date).days == 1: w_date = 1 \n",
    "            else: w_date = 0\n",
    "            w_games = ID[winner][2]\n",
    "        else: \n",
    "            w_elo = 1500\n",
    "            w_date = 0\n",
    "            w_games = 0\n",
    "        if loser in ID.keys():\n",
    "            l_elo = ID[loser][0]\n",
    "            if (ID[loser][1] - game_date).days == 1: l_date = 1\n",
    "            else: l_date = 0\n",
    "            l_games = ID[loser][2]\n",
    "        else: \n",
    "            l_elo = 1500\n",
    "            l_date = 0\n",
    "            l_games = 0\n",
    "        if hm_i == 1: w_elo = w_elo+hp3 + hp4*w_date; l_elo = l_elo + hp4*l_date\n",
    "        else: l_elo = l_elo +hp3 + hp4*l_date; w_elo = w_elo + hp4*l_date;\n",
    "        if w_elo>l_elo: outcomes.append(1)\n",
    "        if l_elo>w_elo: outcomes.append(0)\n",
    "        w_new_elo = (w_elo+np.log(pd+1)*(2.2/((w_elo-l_elo)*.001+2.2))*hp1*(1-(1/(1+10**((l_elo-w_elo)/400)))))\n",
    "        l_new_elo = (l_elo+np.log(pd+1)*(2.2/((w_elo-l_elo)*.001+2.2))*hp1*(0-(1/(1+10**((w_elo-l_elo)/400)))))\n",
    "        ID[winner]=(w_new_elo,game_date,w_games + 1);\n",
    "        ID[loser]=(l_new_elo,game_date,l_games + 1)\n",
    "    print (sum(outcomes)/float(len(outcomes)))\n",
    "    print(ID)\n",
    "score_elo(4,700,2,-.05,'games2015.csv') # run the function on the 2015 data with the given hyperparameters"
   ]
  },
  {
   "cell_type": "code",
   "execution_count": null,
   "metadata": {
    "collapsed": true
   },
   "outputs": [],
   "source": []
  }
 ],
 "metadata": {
  "kernelspec": {
   "display_name": "Python 3",
   "language": "python",
   "name": "python3"
  },
  "language_info": {
   "codemirror_mode": {
    "name": "ipython",
    "version": 3
   },
   "file_extension": ".py",
   "mimetype": "text/x-python",
   "name": "python",
   "nbconvert_exporter": "python",
   "pygments_lexer": "ipython3",
   "version": "3.4.3"
  }
 },
 "nbformat": 4,
 "nbformat_minor": 0
}
