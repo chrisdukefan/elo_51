{
 "cells": [
  {
   "cell_type": "code",
   "execution_count": 3,
   "metadata": {
    "collapsed": true
   },
   "outputs": [],
   "source": [
    "import pandas"
   ]
  },
  {
   "cell_type": "code",
   "execution_count": 52,
   "metadata": {
    "collapsed": false
   },
   "outputs": [
    {
     "name": "stdout",
     "output_type": "stream",
     "text": [
      "0.6839126919967664\n",
      "{'Indiana Pacers': (1501.5862878255709, datetime.datetime(2015, 4, 15, 0, 0), 82), 'Washington Wizards': (1508.6583376307442, datetime.datetime(2015, 4, 15, 0, 0), 82), 'Utah Jazz': (1520.4207510027775, datetime.datetime(2015, 4, 15, 0, 0), 83), 'Sacramento Kings': (1426.7794321098972, datetime.datetime(2015, 4, 15, 0, 0), 82), 'Atlanta Hawks': (1591.9714778015066, datetime.datetime(2015, 4, 15, 0, 0), 82), 'Orlando Magic': (1395.5934433041803, datetime.datetime(2015, 4, 15, 0, 0), 82), 'Memphis Grizzlies': (1562.8751622853272, datetime.datetime(2015, 4, 15, 0, 0), 82), 'Phoenix Suns': (1485.0245603751432, datetime.datetime(2015, 4, 14, 0, 0), 82), 'New York Knicks': (1348.975102819081, datetime.datetime(2015, 4, 15, 0, 0), 82), 'Oklahoma City Thunder': (1544.2270775844975, datetime.datetime(2015, 4, 15, 0, 0), 82), 'Boston Celtics': (1506.9150515835543, datetime.datetime(2015, 4, 15, 0, 0), 82), 'Detroit Pistons': (1464.1394180444686, datetime.datetime(2015, 4, 15, 0, 0), 82), 'Miami Heat': (1476.4655649786569, datetime.datetime(2015, 4, 15, 0, 0), 83), 'Brooklyn Nets': (1476.3827944125135, datetime.datetime(2015, 4, 15, 0, 0), 82), 'Houston Rockets': (1583.7775571369853, datetime.datetime(2015, 4, 15, 0, 0), 83), 'Portland Trail Blazers': (1546.858200403741, datetime.datetime(2015, 4, 15, 0, 0), 84), 'Dallas Mavericks': (1540.5255500201617, datetime.datetime(2015, 4, 15, 0, 0), 83), 'Toronto Raptors': (1533.2481372885338, datetime.datetime(2015, 4, 15, 0, 0), 82), 'Denver Nuggets': (1441.4532668971153, datetime.datetime(2015, 4, 15, 0, 0), 83), 'Los Angeles Clippers': (1606.8866211383599, datetime.datetime(2015, 4, 14, 0, 0), 83), 'Philadelphia 76ers': (1363.8501853638218, datetime.datetime(2015, 4, 15, 0, 0), 83), 'New Orleans Pelicans': (1520.6562178900031, datetime.datetime(2015, 4, 15, 0, 0), 82), 'Los Angeles Lakers': (1371.0391577609942, datetime.datetime(2015, 4, 15, 0, 0), 83), 'Milwaukee Bucks': (1498.4145004999662, datetime.datetime(2015, 4, 15, 0, 0), 83), 'San Antonio Spurs': (1612.7028216039548, datetime.datetime(2015, 4, 15, 0, 0), 82), 'Charlotte Hornets': (1440.8716400069943, datetime.datetime(2015, 4, 15, 0, 0), 83), 'Cleveland Cavaliers': (1580.1473611325403, datetime.datetime(2015, 4, 15, 0, 0), 83), 'Chicago Bulls': (1541.9626548678225, datetime.datetime(2015, 4, 15, 0, 0), 83), 'Golden State Warriors': (1660.7878638680947, datetime.datetime(2015, 4, 15, 0, 0), 82), 'Minnesota Timberwolves': (1346.8038023629917, datetime.datetime(2015, 4, 15, 0, 0), 82)}\n"
     ]
    }
   ],
   "source": [
    "import pandas\n",
    "import numpy as np\n",
    "import datetime\n",
    "def score_elo(hp1,hp2,hp3,hp4,csv): # define a new function that takes in hyperparameter values and returns the percent of games correctly predicted\n",
    "    data = pandas.read_csv(csv)\n",
    "    ID = {}\n",
    "    outcomes = []\n",
    "    for idx, row in data.iterrows():\n",
    "        if data.loc[idx,'PTS']>data.loc[idx,'PTS.1']:\n",
    "            winner = data.loc[idx,'Visitor/Neutral']; loser = data.loc[idx,'Home/Neutral'];\n",
    "            pd = data.loc[idx,'PTS'] - data.loc[idx,'PTS.1']; hm_i = 0\n",
    "        else:\n",
    "            winner = data.loc[idx,'Home/Neutral']; loser = data.loc[idx,'Visitor/Neutral'];\n",
    "            pd = data.loc[idx,'PTS.1'] - data.loc[idx,'PTS'];hm_i = 1\n",
    "        game_date = datetime.datetime.strptime(data.loc[idx][\"Date\"],\"%a, %b %d, %Y\")\n",
    "        if winner in ID.keys():\n",
    "            w_elo = ID[winner][0]\n",
    "            if (ID[winner][1] - game_date).days == 1: w_date = 1 \n",
    "            else: w_date = 0\n",
    "            w_games = ID[winner][2]\n",
    "        else: \n",
    "            w_elo = 1500\n",
    "            w_date = 0\n",
    "            w_games = 0\n",
    "        if loser in ID.keys():\n",
    "            l_elo = ID[loser][0]\n",
    "            if (ID[loser][1] - game_date).days == 1: l_date = 1\n",
    "            else: l_date = 0\n",
    "            l_games = ID[loser][2]\n",
    "        else: \n",
    "            l_elo = 1500\n",
    "            l_date = 0\n",
    "            l_games = 0\n",
    "        if hm_i == 1: w_elo_g = w_elo+hp3 + hp4*w_date; l_elo_g = l_elo + hp4*l_date\n",
    "        else: l_elo_g = l_elo +hp3 + hp4*l_date; w_elo_g = w_elo + hp4*l_date;\n",
    "        if w_elo_g>l_elo_g: outcomes.append(1)\n",
    "        if l_elo_g>w_elo_g: outcomes.append(0)\n",
    "        w_new_elo = (w_elo+np.log(pd+1)*(2.2/((w_elo-l_elo)*.001+2.2))*hp1*(1-(1/(1+10**((l_elo_g-w_elo_g)/400)))))\n",
    "        l_new_elo = (l_elo+np.log(pd+1)*(2.2/((w_elo-l_elo)*.001+2.2))*hp1*(0-(1/(1+10**((w_elo_g-l_elo_g)/400)))))\n",
    "        ID[winner]=(w_new_elo,game_date,w_games + 1);\n",
    "        ID[loser]=(l_new_elo,game_date,l_games + 1)\n",
    "    print (sum(outcomes)/float(len(outcomes)))\n",
    "    print(ID)\n",
    "score_elo(3.9809149872695824, 693.0107331703836, 4.991110715197425, -0.9999998678714583, 'games2015.csv') # run the function on the 2015 data with the given hyperparameters"
   ]
  },
  {
   "cell_type": "code",
   "execution_count": 6,
   "metadata": {
    "collapsed": false
   },
   "outputs": [
    {
     "data": {
      "text/plain": [
       "7"
      ]
     },
     "execution_count": 6,
     "metadata": {},
     "output_type": "execute_result"
    }
   ],
   "source": [
    "3+4"
   ]
  },
  {
   "cell_type": "code",
   "execution_count": 7,
   "metadata": {
    "collapsed": false
   },
   "outputs": [
    {
     "data": {
      "text/plain": [
       "437395"
      ]
     },
     "execution_count": 7,
     "metadata": {},
     "output_type": "execute_result"
    }
   ],
   "source": [
    "7*62485"
   ]
  },
  {
   "cell_type": "code",
   "execution_count": null,
   "metadata": {
    "collapsed": true
   },
   "outputs": [],
   "source": []
  }
 ],
 "metadata": {
  "kernelspec": {
   "display_name": "Python 3",
   "language": "python",
   "name": "python3"
  },
  "language_info": {
   "codemirror_mode": {
    "name": "ipython",
    "version": 3
   },
   "file_extension": ".py",
   "mimetype": "text/x-python",
   "name": "python",
   "nbconvert_exporter": "python",
   "pygments_lexer": "ipython3",
   "version": "3.4.3"
  }
 },
 "nbformat": 4,
 "nbformat_minor": 0
}
