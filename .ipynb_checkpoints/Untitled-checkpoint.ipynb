{
 "cells": [
  {
   "cell_type": "code",
   "execution_count": 20,
   "metadata": {
    "collapsed": false
   },
   "outputs": [
    {
     "ename": "SyntaxError",
     "evalue": "invalid syntax (__init__.py, line 498)",
     "output_type": "error",
     "traceback": [
      "\u001b[1;36m  File \u001b[1;32m\"C:\\Users\\Christopher\\Anaconda3\\lib\\site-packages\\whetlab-0.2.3.9-py3.4.egg\\whetlab\\__init__.py\"\u001b[1;36m, line \u001b[1;32m498\u001b[0m\n\u001b[1;33m    print \"INFO: this experiment currently has \"+str(len(pending))+\" jobs (results) that are pending.\"\u001b[0m\n\u001b[1;37m                                               ^\u001b[0m\n\u001b[1;31mSyntaxError\u001b[0m\u001b[1;31m:\u001b[0m invalid syntax\n"
     ]
    }
   ],
   "source": [
    "import pandas\n",
    "def score_elo(hp1,hp2,hp3,hp4,csv): # define a new function that takes in hyperparameter values and returns the percent of games correctly predicted\n",
    "    data_set = pandas.read_csv(csv)\n",
    "    ID = {}\n",
    "    outcomes = []\n",
    "\n",
    "parameters = { 'hp1':{'min':3, 'max':5, 'type':'float'},\n",
    "               'hp2':{'min':400, 'max':1000, 'type':'float'},\n",
    "               'hp3':{'min':3, 'max':9, 'type':'float'},\n",
    "               'hp4':{'min':-5, 'max':2, 'type':'float'}\n",
    "             }\n",
    "outcome = {'name':'Classification accuracy'}\n",
    "import whetlab\n",
    "scientist = whetlab.Experiment(name=\"Elo Rating - Python Optimized - 1\",\n",
    "                           description=\"Training an elo rating system for the NBA season 2015\",\n",
    "                           parameters=parameters,\n",
    "                           outcome=outcome,\n",
    "                           access_token='a118ec8d-a2d6-443e-a56e-7c0e7d64a213')\n",
    "\n",
    "job = scientist.suggest\n",
    "\n",
    "from sklearn import svm\n",
    "learner = svm.SVC(kernel='poly',**job)\n",
    "learner.fit(*train_set)\n",
    "\n",
    "accuracy = learner.score(*validation_set)\n",
    "scientist.update(job,accuracy)\n",
    "\n",
    "n_iterations = 50\n",
    "for i in range(n_iterations):\n",
    "    job = scientist.suggest()\n",
    "    learner = svm.SVC(kernel='poly',**job)\n",
    "    learner.fit(*train_set)\n",
    "    accuracy = learner.score(*validation_set)\n",
    "    scientist.update(job,accuracy)\n",
    "    \n",
    "best_job = scientist.best()    "
   ]
  },
  {
   "cell_type": "code",
   "execution_count": 10,
   "metadata": {
    "collapsed": false
   },
   "outputs": [
    {
     "ename": "NameError",
     "evalue": "name 'job' is not defined",
     "output_type": "error",
     "traceback": [
      "\u001b[1;31m---------------------------------------------------------------------------\u001b[0m",
      "\u001b[1;31mNameError\u001b[0m                                 Traceback (most recent call last)",
      "\u001b[1;32m<ipython-input-10-75fbe635a9cf>\u001b[0m in \u001b[0;36m<module>\u001b[1;34m()\u001b[0m\n\u001b[1;32m----> 1\u001b[1;33m \u001b[0mprint\u001b[0m\u001b[1;33m(\u001b[0m\u001b[0mjob\u001b[0m\u001b[1;33m)\u001b[0m\u001b[1;33m\u001b[0m\u001b[0m\n\u001b[0m",
      "\u001b[1;31mNameError\u001b[0m: name 'job' is not defined"
     ]
    }
   ],
   "source": [
    "print(job)"
   ]
  },
  {
   "cell_type": "code",
   "execution_count": null,
   "metadata": {
    "collapsed": true
   },
   "outputs": [],
   "source": []
  }
 ],
 "metadata": {
  "kernelspec": {
   "display_name": "Python 3",
   "language": "python",
   "name": "python3"
  },
  "language_info": {
   "codemirror_mode": {
    "name": "ipython",
    "version": 3
   },
   "file_extension": ".py",
   "mimetype": "text/x-python",
   "name": "python",
   "nbconvert_exporter": "python",
   "pygments_lexer": "ipython3",
   "version": "3.4.3"
  }
 },
 "nbformat": 4,
 "nbformat_minor": 0
}
