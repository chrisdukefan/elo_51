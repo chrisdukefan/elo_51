{
 "cells": [
  {
   "cell_type": "code",
   "execution_count": 13,
   "metadata": {
    "collapsed": false,
    "scrolled": true
   },
   "outputs": [
    {
     "ename": "SyntaxError",
     "evalue": "invalid syntax (<ipython-input-13-b67b59296254>, line 45)",
     "output_type": "error",
     "traceback": [
      "\u001b[0;36m  File \u001b[0;32m\"<ipython-input-13-b67b59296254>\"\u001b[0;36m, line \u001b[0;32m45\u001b[0m\n\u001b[0;31m    ID[winner]:(w_new_elo,game_date,w_games + 1)\u001b[0m\n\u001b[0m              ^\u001b[0m\n\u001b[0;31mSyntaxError\u001b[0m\u001b[0;31m:\u001b[0m invalid syntax\n"
     ]
    }
   ],
   "source": [
    "import pandas  # used for importing the .csv files\n",
    "import operator\n",
    "import numpy as np # used for natural logs\n",
    "import datetime # used for dates\n",
    "hp_test = {} # set up a dictionary to hold the results of our optimization\n",
    "for hp1 in range(2,3): # range to iterate over for the first hyperparameter, the scale 'k'\n",
    "    for hp2 in (400,100): # range for the spread hyperparameter\n",
    "        for hp3 in (1,2): # range for the effect homecourt advantage\n",
    "            for hp4 in (0,-1): # range for the effect of playing in a back to back\n",
    "                data = pandas.read_csv('games2012.csv') # read in csv\n",
    "                ID = {} # set up a dictionary that will be the place of storage for teams and their ratings\n",
    "                outcomes = [] # set up an array that will contain whether we correctly predictd the game or not\n",
    "                for idx, row in data.iterrows(): # for each game....\n",
    "                    if data.loc[idx,'PTS']>data.loc[idx,'PTS.1']: # check who won the game, this is the case where the away team won\n",
    "                        winner = data.loc[idx,'Visitor/Neutral']; loser = data.loc[idx,'Home/Neutral']; # get the names of the winner and loser\n",
    "                        pd = data.loc[idx,'PTS'] - data.loc[idx,'PTS.1']; hm_i = 0 #get the point differential and signal whether home team won\n",
    "                    else: # do the same in the case where the home team won\n",
    "                        winner = data.loc[idx,'Home/Neutral']; loser = data.loc[idx,'Visitor/Neutral'];\n",
    "                        pd = data.loc[idx,'PTS.1'] - data.loc[idx,'PTS'];hm_i = 1\n",
    "                    game_date = datetime.datetime.strptime(data.loc[idx][\"Date\"],\"%a, %b %d, %Y\") # get the date of the game\n",
    "                    if winner in ID.keys(): # if the team has already played a game\n",
    "                        w_elo = ID[winner][0] # get their ranking\n",
    "                        if (ID[winner][1] - game_date).days == 1: w_date = 1 # check whether they are playing in a back-to-back game\n",
    "                        else: w_date = 0 \n",
    "                        w_games = ID[winner][2] # see how many previous games they've played\n",
    "                    else: # else initialize a new team\n",
    "                        w_elo = 1500\n",
    "                        w_date = 0\n",
    "                        w_games = 0\n",
    "                    if loser in ID.keys(): #do the same for the losing team\n",
    "                        l_elo = ID[loser][0]\n",
    "                        if (ID[loser][1] - game_date).days == 1: l_date = 1\n",
    "                        else: l_date = 0\n",
    "                        l_games = ID[loser][2]\n",
    "                    else: \n",
    "                        l_elo = 1500\n",
    "                        l_date = 0\n",
    "                        l_games = 0\n",
    "                    if hm_i == 1: w_elo = w_elo+hp3 + hp4*w_date; l_elo = l_elo + hp4*l_date # adjust the teams' elo rating for homecourt advantage and back to back\n",
    "                    else: l_elo = l_elo +hp3 + hp4*l_date; w_elo = w_elo + hp4*l_date;\n",
    "                    if w_elo>l_elo: outcomes.append(1) # if the model correctly predicted the game, add a one to the outcome vector\n",
    "                    if l_elo>w_elo: outcomes.append(0) # else add a zero\n",
    "                    w_new_elo = (w_elo+np.log(pd+1)*(2.2/((w_elo-l_elo)*.001+2.2))*hp1*(1-(1/(1+10**((l_elo-w_elo)/400))))) # update the winner's elo\n",
    "                    l_new_elo = (l_elo+np.log(pd+1)*(2.2/((w_elo-l_elo)*.001+2.2))*hp1*(0-(1/(1+10**((w_elo-l_elo)/400))))) # update the loser's elo\n",
    "                    ID[winner]=(w_new_elo,game_date,w_games + 1) # update the dictionary of teams to include a key of the team's name, and a value of (their elo score, the date of their last game, how many games they've played so far)\n",
    "                    ID[loser]=(l_new_elo,game_date,l_games + 1) # do the same for the losing team\n",
    "                hp_test[(hp1,hp2,hp3,hp4)] = (sum(outcomes)/float(len(outcomes))) # update the dictionary of results to include a key of all their hyperparameters and a value of the percent of games correctly predicted\n",
    "print (sorted(hp_test.items(), key=operator.itemgetter(1),reverse=True)) # print out the dictionary in order form most accurate to least accurate"
   ]
  },
  {
   "cell_type": "code",
   "execution_count": 42,
   "metadata": {
    "collapsed": false
   },
   "outputs": [
    {
     "name": "stdout",
     "output_type": "stream",
     "text": [
      "[('New York Knicks', 1429.1020865981511), ('Minnesota Timberwolves', 1429.8264966520815), ('Philadelphia 76ers', 1449.6889059015343), ('Los Angeles Lakers', 1452.8458649351214), ('Orlando Magic', 1481.041649560636), ('Sacramento Kings', 1505.7195279637463), ('Denver Nuggets', 1522.4209952449073), ('Charlotte Hornets', 1524.7164374552988), ('Detroit Pistons', 1547.3065579000677), ('Miami Heat', 1555.1196338937884), ('Brooklyn Nets', 1562.2676929516283), ('Phoenix Suns', 1566.935709631726), ('Milwaukee Bucks', 1581.4526295910337), ('Indiana Pacers', 1583.7306680480892), ('Boston Celtics', 1587.1195250155222), ('Washington Wizards', 1591.3868122903748), ('Utah Jazz', 1599.454372328689), ('New Orleans Pelicans', 1602.1887937926476), ('Toronto Raptors', 1612.6188414194928), ('Dallas Mavericks', 1624.9392707368092), ('Portland Trail Blazers', 1627.7719616507015), ('Oklahoma City Thunder', 1629.8439504046573), ('Chicago Bulls', 1630.0660556442467), ('Memphis Grizzlies', 1644.3861379004986), ('Cleveland Cavaliers', 1659.2617915991302), ('Houston Rockets', 1665.5673271745468), ('Atlanta Hawks', 1675.3897020405011), ('Los Angeles Clippers', 1685.905651019064), ('San Antonio Spurs', 1695.9071042453409), ('Golden State Warriors', 1747.188316228054)]\n"
     ]
    }
   ],
   "source": [
    "print sorted(ID.items(), key=operator.itemgetter(1))"
   ]
  },
  {
   "cell_type": "code",
   "execution_count": 73,
   "metadata": {
    "collapsed": false
   },
   "outputs": [
    {
     "name": "stdout",
     "output_type": "stream",
     "text": [
      "0.1\n"
     ]
    }
   ],
   "source": [
    "import datetime\n",
    "import re\n",
    "print -.1*((datetime.datetime.strptime(data.loc[1][\"Date\"],\"%a, %b %d, %Y\"))-(datetime.datetime.strptime(data.loc[6][\"Date\"],\"%a, %b %d, %Y\"))).days"
   ]
  },
  {
   "cell_type": "code",
   "execution_count": 2,
   "metadata": {
    "collapsed": false
   },
   "outputs": [
    {
     "data": {
      "text/plain": [
       "7"
      ]
     },
     "execution_count": 2,
     "metadata": {},
     "output_type": "execute_result"
    }
   ],
   "source": [
    "3+4"
   ]
  },
  {
   "cell_type": "code",
   "execution_count": 10,
   "metadata": {
    "collapsed": false
   },
   "outputs": [
    {
     "name": "stdout",
     "output_type": "stream",
     "text": [
      "      Unnamed: 0               Date Unnamed: 2         Visitor/Neutral  PTS  \\\n",
      "0              1  Tue, Oct 28, 2008  Box Score     Cleveland Cavaliers   85   \n",
      "1              2  Tue, Oct 28, 2008  Box Score         Milwaukee Bucks   95   \n",
      "2              3  Tue, Oct 28, 2008  Box Score  Portland Trail Blazers   76   \n",
      "3              4  Wed, Oct 29, 2008  Box Score          Indiana Pacers   94   \n",
      "4              5  Wed, Oct 29, 2008  Box Score     New Orleans Hornets  108   \n",
      "5              6  Wed, Oct 29, 2008  Box Score       Memphis Grizzlies   71   \n",
      "6              7  Wed, Oct 29, 2008  Box Score      Los Angeles Lakers  117   \n",
      "7              8  Wed, Oct 29, 2008  Box Score        Sacramento Kings   96   \n",
      "8              9  Wed, Oct 29, 2008  Box Score              Miami Heat  115   \n",
      "9             10  Wed, Oct 29, 2008  Box Score         Milwaukee Bucks   98   \n",
      "10            11  Wed, Oct 29, 2008  Box Score           Atlanta Hawks   99   \n",
      "11            12  Wed, Oct 29, 2008  Box Score         Toronto Raptors   95   \n",
      "12            13  Wed, Oct 29, 2008  Box Score            Phoenix Suns  103   \n",
      "13            14  Wed, Oct 29, 2008  Box Score          Denver Nuggets   94   \n",
      "14            15  Wed, Oct 29, 2008  Box Score         New Jersey Nets   95   \n",
      "15            16  Thu, Oct 30, 2008  Box Score       Charlotte Bobcats   79   \n",
      "16            17  Thu, Oct 30, 2008  Box Score         Houston Rockets  112   \n",
      "17            18  Thu, Oct 30, 2008  Box Score     New Orleans Hornets  108   \n",
      "18            19  Fri, Oct 31, 2008  Box Score           Chicago Bulls   80   \n",
      "19            20  Fri, Oct 31, 2008  Box Score          Denver Nuggets  113   \n",
      "20            21  Fri, Oct 31, 2008  Box Score           Orlando Magic   84   \n",
      "21            22  Fri, Oct 31, 2008  Box Score        Sacramento Kings   77   \n",
      "22            23  Fri, Oct 31, 2008  Box Score         New York Knicks   87   \n",
      "23            24  Fri, Oct 31, 2008  Box Score       San Antonio Spurs   99   \n",
      "24            25  Fri, Oct 31, 2008  Box Score   Golden State Warriors  108   \n",
      "25            26   Sat, Nov 1, 2008  Box Score      Philadelphia 76ers   88   \n",
      "26            27   Sat, Nov 1, 2008  Box Score              Miami Heat   87   \n",
      "27            28   Sat, Nov 1, 2008  Box Score       Memphis Grizzlies   86   \n",
      "28            29   Sat, Nov 1, 2008  Box Score      Los Angeles Lakers  104   \n",
      "29            30   Sat, Nov 1, 2008  Box Score      Washington Wizards  109   \n",
      "...          ...                ...        ...                     ...  ...   \n",
      "1200        1201  Sun, Apr 12, 2009  Box Score      Philadelphia 76ers  104   \n",
      "1201        1202  Mon, Apr 13, 2009  Box Score  Minnesota Timberwolves   94   \n",
      "1202        1203  Mon, Apr 13, 2009  Box Score        Sacramento Kings   98   \n",
      "1203        1204  Mon, Apr 13, 2009  Box Score           Chicago Bulls   91   \n",
      "1204        1205  Mon, Apr 13, 2009  Box Score       San Antonio Spurs  101   \n",
      "1205        1206  Mon, Apr 13, 2009  Box Score     New Orleans Hornets   66   \n",
      "1206        1207  Mon, Apr 13, 2009  Box Score     Cleveland Cavaliers  117   \n",
      "1207        1208  Mon, Apr 13, 2009  Box Score           Orlando Magic   80   \n",
      "1208        1209  Mon, Apr 13, 2009  Box Score       Charlotte Bobcats   87   \n",
      "1209        1210  Mon, Apr 13, 2009  Box Score       Memphis Grizzlies  110   \n",
      "1210        1211  Mon, Apr 13, 2009  Box Score   Oklahoma City Thunder   83   \n",
      "1211        1212  Mon, Apr 13, 2009  Box Score    Los Angeles Clippers   85   \n",
      "1212        1213  Mon, Apr 13, 2009  Box Score         Toronto Raptors   97   \n",
      "1213        1214  Tue, Apr 14, 2009  Box Score              Miami Heat   79   \n",
      "1214        1215  Tue, Apr 14, 2009  Box Score               Utah Jazz  112   \n",
      "1215        1216  Tue, Apr 14, 2009  Box Score          Boston Celtics  100   \n",
      "1216        1217  Wed, Apr 15, 2009  Box Score      Washington Wizards  107   \n",
      "1217        1218  Wed, Apr 15, 2009  Box Score         Toronto Raptors  109   \n",
      "1218        1219  Wed, Apr 15, 2009  Box Score      Philadelphia 76ers  111   \n",
      "1219        1220  Wed, Apr 15, 2009  Box Score         Houston Rockets   84   \n",
      "1220        1221  Wed, Apr 15, 2009  Box Score         Milwaukee Bucks  108   \n",
      "1221        1222  Wed, Apr 15, 2009  Box Score   Oklahoma City Thunder  126   \n",
      "1222        1223  Wed, Apr 15, 2009  Box Score           Atlanta Hawks   90   \n",
      "1223        1224  Wed, Apr 15, 2009  Box Score         Detroit Pistons   96   \n",
      "1224        1225  Wed, Apr 15, 2009  Box Score        Sacramento Kings   97   \n",
      "1225        1226  Wed, Apr 15, 2009  Box Score         New Jersey Nets   73   \n",
      "1226        1227  Wed, Apr 15, 2009  Box Score       Charlotte Bobcats   73   \n",
      "1227        1228  Wed, Apr 15, 2009  Box Score   Golden State Warriors  113   \n",
      "1228        1229  Wed, Apr 15, 2009  Box Score          Denver Nuggets   76   \n",
      "1229        1230  Wed, Apr 15, 2009  Box Score     New Orleans Hornets   98   \n",
      "\n",
      "                Home/Neutral  PTS.1 Unnamed: 7 Notes  \n",
      "0             Boston Celtics     90        NaN   NaN  \n",
      "1              Chicago Bulls    108        NaN   NaN  \n",
      "2         Los Angeles Lakers     96        NaN   NaN  \n",
      "3            Detroit Pistons    100        NaN   NaN  \n",
      "4      Golden State Warriors    103        NaN   NaN  \n",
      "5            Houston Rockets     82        NaN   NaN  \n",
      "6       Los Angeles Clippers     79        NaN   NaN  \n",
      "7     Minnesota Timberwolves     98        NaN   NaN  \n",
      "8            New York Knicks    120        NaN   NaN  \n",
      "9      Oklahoma City Thunder     87        NaN   NaN  \n",
      "10             Orlando Magic     85        NaN   NaN  \n",
      "11        Philadelphia 76ers     84        NaN   NaN  \n",
      "12         San Antonio Spurs     98        NaN   NaN  \n",
      "13                 Utah Jazz     98        NaN   NaN  \n",
      "14        Washington Wizards     85        NaN   NaN  \n",
      "15       Cleveland Cavaliers     96        NaN   NaN  \n",
      "16          Dallas Mavericks    102        NaN   NaN  \n",
      "17              Phoenix Suns     95        NaN   NaN  \n",
      "18            Boston Celtics     96        NaN   NaN  \n",
      "19      Los Angeles Clippers    103         OT   NaN  \n",
      "20         Memphis Grizzlies     86        NaN   NaN  \n",
      "21                Miami Heat    103        NaN   NaN  \n",
      "22        Philadelphia 76ers    116        NaN   NaN  \n",
      "23    Portland Trail Blazers    100        NaN   NaN  \n",
      "24           Toronto Raptors    112         OT   NaN  \n",
      "25             Atlanta Hawks     95        NaN   NaN  \n",
      "26         Charlotte Bobcats    100        NaN   NaN  \n",
      "27             Chicago Bulls     96        NaN   NaN  \n",
      "28            Denver Nuggets     97        NaN   NaN  \n",
      "29           Detroit Pistons    117        NaN   NaN  \n",
      "...                      ...    ...        ...   ...  \n",
      "1200         Toronto Raptors    111        NaN   NaN  \n",
      "1201        Dallas Mavericks     96        NaN   NaN  \n",
      "1202          Denver Nuggets    118        NaN   NaN  \n",
      "1203         Detroit Pistons     88        NaN   NaN  \n",
      "1204   Golden State Warriors     72        NaN   NaN  \n",
      "1205         Houston Rockets     86        NaN   NaN  \n",
      "1206          Indiana Pacers    109        NaN   NaN  \n",
      "1207         Milwaukee Bucks     98        NaN   NaN  \n",
      "1208         New Jersey Nets     91        NaN   NaN  \n",
      "1209            Phoenix Suns    119        NaN   NaN  \n",
      "1210  Portland Trail Blazers    113        NaN   NaN  \n",
      "1211               Utah Jazz    106        NaN   NaN  \n",
      "1212      Washington Wizards     96        NaN   NaN  \n",
      "1213           Atlanta Hawks     81        NaN   NaN  \n",
      "1214      Los Angeles Lakers    125        NaN   NaN  \n",
      "1215      Philadelphia 76ers     98        NaN   NaN  \n",
      "1216          Boston Celtics    115        NaN   NaN  \n",
      "1217           Chicago Bulls     98        NaN   NaN  \n",
      "1218     Cleveland Cavaliers    110         OT   NaN  \n",
      "1219        Dallas Mavericks     95        NaN   NaN  \n",
      "1220          Indiana Pacers    115        NaN   NaN  \n",
      "1221    Los Angeles Clippers     85        NaN   NaN  \n",
      "1222       Memphis Grizzlies     98        NaN   NaN  \n",
      "1223              Miami Heat    102         OT   NaN  \n",
      "1224  Minnesota Timberwolves     90        NaN   NaN  \n",
      "1225         New York Knicks    102        NaN   NaN  \n",
      "1226           Orlando Magic     98        NaN   NaN  \n",
      "1227            Phoenix Suns    117        NaN   NaN  \n",
      "1228  Portland Trail Blazers    104        NaN   NaN  \n",
      "1229       San Antonio Spurs    105         OT   NaN  \n",
      "\n",
      "[1230 rows x 9 columns]\n"
     ]
    }
   ],
   "source": [
    "print(pandas.read_csv('games2009.csv'))"
   ]
  },
  {
   "cell_type": "code",
   "execution_count": null,
   "metadata": {
    "collapsed": true
   },
   "outputs": [],
   "source": []
  }
 ],
 "metadata": {
  "kernelspec": {
   "display_name": "Python 3",
   "language": "python",
   "name": "python3"
  },
  "language_info": {
   "codemirror_mode": {
    "name": "ipython",
    "version": 3
   },
   "file_extension": ".py",
   "mimetype": "text/x-python",
   "name": "python",
   "nbconvert_exporter": "python",
   "pygments_lexer": "ipython3",
   "version": "3.4.3"
  }
 },
 "nbformat": 4,
 "nbformat_minor": 0
}
