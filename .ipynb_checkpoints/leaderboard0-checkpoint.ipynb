{
 "cells": [
  {
   "cell_type": "code",
   "execution_count": 80,
   "metadata": {
    "collapsed": false
   },
   "outputs": [
    {
     "name": "stdout",
     "output_type": "stream",
     "text": [
      "Leaderboard\n",
      "Team                   ELO Score            Date of Last Game           Games Played \n",
      "Golden State Warriors  1681.7238881059006   2015-04-15 00:00:00         82 \n",
      "San Antonio Spurs      1631.5832527739003   2015-04-15 00:00:00         82 \n",
      "Los Angeles Clippers   1621.189225718345    2015-04-14 00:00:00         82 \n",
      "Atlanta Hawks          1598.8808260865778   2015-04-15 00:00:00         82 \n",
      "Houston Rockets        1593.3833493197544   2015-04-15 00:00:00         82 \n",
      "Cleveland Cavaliers    1589.2633653624753   2015-04-15 00:00:00         82 \n",
      "Memphis Grizzlies      1569.0087425296213   2015-04-15 00:00:00         82 \n",
      "Oklahoma City Thunder  1551.5236368722406   2015-04-15 00:00:00         82 \n",
      "Chicago Bulls          1551.1686229590684   2015-04-15 00:00:00         82 \n",
      "Portland Trail Blazers 1550.1718203354665   2015-04-15 00:00:00         82 \n",
      "Dallas Mavericks       1546.4438486893594   2015-04-15 00:00:00         82 \n",
      "Toronto Raptors        1533.969272019741    2015-04-15 00:00:00         82 \n",
      "New Orleans Pelicans   1524.7052005431176   2015-04-15 00:00:00         82 \n",
      "Utah Jazz              1524.0178534923925   2015-04-15 00:00:00         82 \n",
      "Boston Celtics         1512.189488140566    2015-04-15 00:00:00         82 \n",
      "Washington Wizards     1507.5772600102155   2015-04-15 00:00:00         82 \n",
      "Indiana Pacers         1503.978165746893    2015-04-15 00:00:00         82 \n",
      "Milwaukee Bucks        1493.7194882164245   2015-04-15 00:00:00         82 \n",
      "Phoenix Suns           1480.2408812390504   2015-04-14 00:00:00         82 \n",
      "Brooklyn Nets          1476.004074743693    2015-04-15 00:00:00         82 \n",
      "Miami Heat             1470.5613155297028   2015-04-15 00:00:00         82 \n",
      "Detroit Pistons        1461.341719454624    2015-04-15 00:00:00         82 \n",
      "Denver Nuggets         1435.9160448284144   2015-04-15 00:00:00         82 \n",
      "Charlotte Hornets      1434.5934649237408   2015-04-15 00:00:00         82 \n",
      "Sacramento Kings       1417.5215234753346   2015-04-15 00:00:00         82 \n",
      "Orlando Magic          1381.2297513034696   2015-04-15 00:00:00         82 \n",
      "Los Angeles Lakers     1353.7878010762252   2015-04-15 00:00:00         82 \n",
      "Philadelphia 76ers     1349.3602287170336   2015-04-15 00:00:00         82 \n",
      "New York Knicks        1328.8343536714096   2015-04-15 00:00:00         82 \n",
      "Minnesota Timberwolves 1326.1115341152424   2015-04-15 00:00:00         82 \n",
      "\n",
      "Matchmaker\n",
      "Favored Team                              Underdog\n",
      "Golden State Warriors          vs         San Antonio Spurs\n",
      "Los Angeles Clippers           vs         Atlanta Hawks\n",
      "Houston Rockets                vs         Cleveland Cavaliers\n",
      "Memphis Grizzlies              vs         Oklahoma City Thunder\n",
      "Chicago Bulls                  vs         Portland Trail Blazers\n",
      "Dallas Mavericks               vs         Toronto Raptors\n",
      "New Orleans Pelicans           vs         Utah Jazz\n",
      "Boston Celtics                 vs         Washington Wizards\n",
      "Indiana Pacers                 vs         Milwaukee Bucks\n",
      "Phoenix Suns                   vs         Brooklyn Nets\n",
      "Miami Heat                     vs         Detroit Pistons\n",
      "Denver Nuggets                 vs         Charlotte Hornets\n",
      "Sacramento Kings               vs         Orlando Magic\n",
      "Los Angeles Lakers             vs         Philadelphia 76ers\n",
      "New York Knicks                vs         Minnesota Timberwolves\n"
     ]
    }
   ],
   "source": [
    "import elo_optim1\n",
    "import operator\n",
    "d = (sorted(elo_optim1.ID.items(), key=operator.itemgetter(1),reverse=True))\n",
    "\n",
    "print(\"Leaderboard\")\n",
    "print(\"{:<22} {:<20} {} {:>22} \".format('Team','ELO Score','Date of Last Game', 'Games Played'))\n",
    "for k, v in d:\n",
    "    label, num, fun = v\n",
    "    print( \"{:<22} {:<20} {} {:>10} \".format(k, label, num, fun))\n",
    "    \n",
    "print(\"\")\n",
    "print(\"Matchmaker\")\n",
    "print(\"{:<41} {}\".format('Favored Team', 'Underdog'))\n",
    "for x in range(0,(len(d)),2):\n",
    "    print( \"{:<30} {:<10} {}\".format((d[x][0]), 'vs', d[x+1][0]))\n",
    "\n",
    "\n",
    "\n"
   ]
  },
  {
   "cell_type": "raw",
   "metadata": {},
   "source": []
  },
  {
   "cell_type": "code",
   "execution_count": 38,
   "metadata": {
    "collapsed": false
   },
   "outputs": [
    {
     "data": {
      "text/plain": [
       "30"
      ]
     },
     "execution_count": 38,
     "metadata": {},
     "output_type": "execute_result"
    }
   ],
   "source": [
    "len(d)\n"
   ]
  },
  {
   "cell_type": "code",
   "execution_count": 42,
   "metadata": {
    "collapsed": false
   },
   "outputs": [
    {
     "name": "stdout",
     "output_type": "stream",
     "text": [
      "Favored Underdog\n",
      "Golden State Warriors  \n",
      "San Antonio Spurs      \n",
      "Los Angeles Clippers   \n",
      "Atlanta Hawks          \n",
      "Houston Rockets        \n",
      "Cleveland Cavaliers    \n",
      "Memphis Grizzlies      \n",
      "Oklahoma City Thunder  \n",
      "Chicago Bulls          \n",
      "Portland Trail Blazers \n",
      "Dallas Mavericks       \n",
      "Toronto Raptors        \n",
      "New Orleans Pelicans   \n",
      "Utah Jazz              \n",
      "Boston Celtics         \n",
      "Washington Wizards     \n",
      "Indiana Pacers         \n",
      "Milwaukee Bucks        \n",
      "Phoenix Suns           \n",
      "Brooklyn Nets          \n",
      "Miami Heat             \n",
      "Detroit Pistons        \n",
      "Denver Nuggets         \n",
      "Charlotte Hornets      \n",
      "Sacramento Kings       \n",
      "Orlando Magic          \n",
      "Los Angeles Lakers     \n",
      "Philadelphia 76ers     \n",
      "New York Knicks        \n",
      "Minnesota Timberwolves \n"
     ]
    }
   ],
   "source": [
    "print( \"{} {}\".format('Favored', 'Underdog'))\n",
    "for k, v in d:\n",
    "    print( \"{:<22} \".format(k))"
   ]
  },
  {
   "cell_type": "code",
   "execution_count": 61,
   "metadata": {
    "collapsed": false
   },
   "outputs": [
    {
     "name": "stdout",
     "output_type": "stream",
     "text": [
      "number: 0\n",
      "number: 2\n",
      "number: 4\n",
      "number: 6\n",
      "number: 8\n",
      "number: 10\n",
      "number: 12\n",
      "number: 14\n",
      "number: 16\n",
      "number: 18\n",
      "number: 20\n",
      "number: 22\n",
      "number: 24\n",
      "number: 26\n",
      "number: 28\n"
     ]
    }
   ],
   "source": [
    "for x in range(0,30,2):\n",
    "    print(\"number: {}\".format(x))"
   ]
  },
  {
   "cell_type": "code",
   "execution_count": null,
   "metadata": {
    "collapsed": true
   },
   "outputs": [],
   "source": []
  }
 ],
 "metadata": {
  "kernelspec": {
   "display_name": "Python 3",
   "language": "python",
   "name": "python3"
  },
  "language_info": {
   "codemirror_mode": {
    "name": "ipython",
    "version": 3
   },
   "file_extension": ".py",
   "mimetype": "text/x-python",
   "name": "python",
   "nbconvert_exporter": "python",
   "pygments_lexer": "ipython3",
   "version": "3.4.3"
  }
 },
 "nbformat": 4,
 "nbformat_minor": 0
}
