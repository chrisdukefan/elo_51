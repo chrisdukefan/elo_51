{
 "cells": [
  {
   "cell_type": "code",
   "execution_count": 34,
   "metadata": {
    "collapsed": false
   },
   "outputs": [
    {
     "name": "stdout",
     "output_type": "stream",
     "text": [
      "Leaderboard\n",
      "Team                                ELO Score                     \n",
      "0     Golden State Warriors        1681.7957149415556      \n",
      "1     San Antonio Spurs            1631.5984926532117      \n",
      "2     Los Angeles Clippers         1622.5953502409864      \n",
      "3     Atlanta Hawks                1598.6247129133644      \n",
      "4     Houston Rockets              1595.729813605673       \n",
      "5     Cleveland Cavaliers          1591.6974586107244      \n",
      "6     Memphis Grizzlies            1569.080726686965       \n",
      "7     Oklahoma City Thunder        1551.3445410599995      \n",
      "8     Portland Trail Blazers       1548.5362524851296      \n",
      "9     Chicago Bulls                1547.1233892479574      \n",
      "10    Dallas Mavericks             1544.4127404909543      \n",
      "11    Toronto Raptors              1533.6684536679481      \n",
      "12    Utah Jazz                    1528.5752850266276      \n",
      "13    New Orleans Pelicans         1524.5770540152646      \n",
      "14    Boston Celtics               1512.3985791442822      \n",
      "15    Washington Wizards           1507.362180181175       \n",
      "16    Indiana Pacers               1503.8669864103838      \n",
      "17    Milwaukee Bucks              1495.9004157194106      \n",
      "18    Phoenix Suns                 1480.2003117955871      \n",
      "19    Brooklyn Nets                1476.1186869127646      \n",
      "20    Miami Heat                   1474.4015706612252      \n",
      "21    Detroit Pistons              1461.026923038586       \n",
      "22    Denver Nuggets               1435.5379047044776      \n",
      "23    Charlotte Hornets            1430.5385639522622      \n",
      "24    Sacramento Kings             1417.5531038335637      \n",
      "25    Orlando Magic                1381.1750455930198      \n",
      "26    Los Angeles Lakers           1352.4194298168143      \n",
      "27    Philadelphia 76ers           1347.2318509863287      \n",
      "28    New York Knicks              1328.7788463460777      \n",
      "29    Minnesota Timberwolves       1326.12961525768        \n",
      "\n",
      "Matchmaker\n",
      "Favored Team                              Underdog\n",
      "Golden State Warriors          vs         San Antonio Spurs\n",
      "Los Angeles Clippers           vs         Atlanta Hawks\n",
      "Houston Rockets                vs         Cleveland Cavaliers\n",
      "Memphis Grizzlies              vs         Oklahoma City Thunder\n",
      "Portland Trail Blazers         vs         Chicago Bulls\n",
      "Dallas Mavericks               vs         Toronto Raptors\n",
      "Utah Jazz                      vs         New Orleans Pelicans\n",
      "Boston Celtics                 vs         Washington Wizards\n",
      "Indiana Pacers                 vs         Milwaukee Bucks\n",
      "Phoenix Suns                   vs         Brooklyn Nets\n",
      "Miami Heat                     vs         Detroit Pistons\n",
      "Denver Nuggets                 vs         Charlotte Hornets\n",
      "Sacramento Kings               vs         Orlando Magic\n",
      "Los Angeles Lakers             vs         Philadelphia 76ers\n",
      "New York Knicks                vs         Minnesota Timberwolves\n",
      "\n",
      "Lines\n"
     ]
    }
   ],
   "source": [
    "\n",
    "import elo_optim1 as ranking\n",
    "import elo_spread1 as spread\n",
    "import sys\n",
    "import operator\n",
    "\n",
    "hp3 = 3\n",
    "d = (sorted(ranking.ID.items(), key=operator.itemgetter(1),reverse=True))\n",
    "a = spread.coeffs\n",
    "m = a[0] #slope of line\n",
    "b = a[1] #intercept of line\n",
    "print(\"Leaderboard\")\n",
    "print(\"{:<35} {:<30}\".format('Team','ELO Score'))\n",
    "for number, info in enumerate(d):\n",
    "    name, v = info\n",
    "    elo, _, _ = v\n",
    "    print( \"{:<5} {:<28} {:<24}\".format(number, name, elo))\n",
    "    \n",
    "print(\"\")\n",
    "print(\"Matchmaker\")\n",
    "print(\"{:<41} {}\".format('Favored Team', 'Underdog'))\n",
    "for x in range(0,(len(d)),2):\n",
    "    print( \"{:<30} {:<10} {}\".format((d[x][0]), 'vs', d[x+1][0]))\n",
    "    \n",
    "print(\"\")\n",
    "def update_elo(hometeam, awayteam):\n",
    "    print(\"Lines\")\n",
    "    nameh, vh = d[hometeam] #home team\n",
    "    eloh, _, _ = vh\n",
    "    eloh = eloh + hp3\n",
    "    namea, va = d[awayteam] #away team\n",
    "    eloa , _ , _ = va\n",
    "    dif_elo = eloh - eloa\n",
    "    point_dif = m*dif_elo + b\n",
    "    print( \"{} {} {}\".format(d[hometeam][0], d[awayteam][0], point_dif))\n",
    "\n",
    "\n",
    "\n",
    "\n",
    "\n",
    "\n",
    "\n",
    "\n"
   ]
  },
  {
   "cell_type": "raw",
   "metadata": {},
   "source": []
  },
  {
   "cell_type": "code",
   "execution_count": 7,
   "metadata": {
    "collapsed": false
   },
   "outputs": [
    {
     "name": "stdout",
     "output_type": "stream",
     "text": [
      "Golden State Warriors San Antonio Spurs 4.901228884596488\n"
     ]
    }
   ],
   "source": [
    "update_elo(0,4)\n"
   ]
  },
  {
   "cell_type": "code",
   "execution_count": 42,
   "metadata": {
    "collapsed": false
   },
   "outputs": [
    {
     "name": "stdout",
     "output_type": "stream",
     "text": [
      "Favored Underdog\n",
      "Golden State Warriors  \n",
      "San Antonio Spurs      \n",
      "Los Angeles Clippers   \n",
      "Atlanta Hawks          \n",
      "Houston Rockets        \n",
      "Cleveland Cavaliers    \n",
      "Memphis Grizzlies      \n",
      "Oklahoma City Thunder  \n",
      "Chicago Bulls          \n",
      "Portland Trail Blazers \n",
      "Dallas Mavericks       \n",
      "Toronto Raptors        \n",
      "New Orleans Pelicans   \n",
      "Utah Jazz              \n",
      "Boston Celtics         \n",
      "Washington Wizards     \n",
      "Indiana Pacers         \n",
      "Milwaukee Bucks        \n",
      "Phoenix Suns           \n",
      "Brooklyn Nets          \n",
      "Miami Heat             \n",
      "Detroit Pistons        \n",
      "Denver Nuggets         \n",
      "Charlotte Hornets      \n",
      "Sacramento Kings       \n",
      "Orlando Magic          \n",
      "Los Angeles Lakers     \n",
      "Philadelphia 76ers     \n",
      "New York Knicks        \n",
      "Minnesota Timberwolves \n"
     ]
    }
   ],
   "source": [
    "\n"
   ]
  },
  {
   "cell_type": "code",
   "execution_count": 61,
   "metadata": {
    "collapsed": false
   },
   "outputs": [
    {
     "name": "stdout",
     "output_type": "stream",
     "text": [
      "number: 0\n",
      "number: 2\n",
      "number: 4\n",
      "number: 6\n",
      "number: 8\n",
      "number: 10\n",
      "number: 12\n",
      "number: 14\n",
      "number: 16\n",
      "number: 18\n",
      "number: 20\n",
      "number: 22\n",
      "number: 24\n",
      "number: 26\n",
      "number: 28\n"
     ]
    }
   ],
   "source": []
  },
  {
   "cell_type": "code",
   "execution_count": 4,
   "metadata": {
    "collapsed": false
   },
   "outputs": [
    {
     "name": "stdout",
     "output_type": "stream",
     "text": [
      "[ 0.04947444  2.26932628]\n",
      "Leaderboard\n",
      "Team                   ELO Score           \n",
      "Golden State Warriors  1681.7957149415556  \n",
      "San Antonio Spurs      1631.5984926532117  \n",
      "Los Angeles Clippers   1622.5953502409864  \n",
      "Atlanta Hawks          1598.6247129133644  \n",
      "Houston Rockets        1595.729813605673   \n",
      "Cleveland Cavaliers    1591.6974586107244  \n",
      "Memphis Grizzlies      1569.080726686965   \n",
      "Oklahoma City Thunder  1551.3445410599995  \n",
      "Portland Trail Blazers 1548.5362524851296  \n",
      "Chicago Bulls          1547.1233892479574  \n",
      "Dallas Mavericks       1544.4127404909543  \n",
      "Toronto Raptors        1533.6684536679481  \n",
      "Utah Jazz              1528.5752850266276  \n",
      "New Orleans Pelicans   1524.5770540152646  \n",
      "Boston Celtics         1512.3985791442822  \n",
      "Washington Wizards     1507.362180181175   \n",
      "Indiana Pacers         1503.8669864103838  \n",
      "Milwaukee Bucks        1495.9004157194106  \n",
      "Phoenix Suns           1480.2003117955871  \n",
      "Brooklyn Nets          1476.1186869127646  \n",
      "Miami Heat             1474.4015706612252  \n",
      "Detroit Pistons        1461.026923038586   \n",
      "Denver Nuggets         1435.5379047044776  \n",
      "Charlotte Hornets      1430.5385639522622  \n",
      "Sacramento Kings       1417.5531038335637  \n",
      "Orlando Magic          1381.1750455930198  \n",
      "Los Angeles Lakers     1352.4194298168143  \n",
      "Philadelphia 76ers     1347.2318509863287  \n",
      "New York Knicks        1328.7788463460777  \n",
      "Minnesota Timberwolves 1326.12961525768    \n",
      "\n",
      "Matchmaker\n",
      "Favored Team                              Underdog\n",
      "Golden State Warriors          vs         San Antonio Spurs\n",
      "Los Angeles Clippers           vs         Atlanta Hawks\n",
      "Houston Rockets                vs         Cleveland Cavaliers\n",
      "Memphis Grizzlies              vs         Oklahoma City Thunder\n",
      "Portland Trail Blazers         vs         Chicago Bulls\n",
      "Dallas Mavericks               vs         Toronto Raptors\n",
      "Utah Jazz                      vs         New Orleans Pelicans\n",
      "Boston Celtics                 vs         Washington Wizards\n",
      "Indiana Pacers                 vs         Milwaukee Bucks\n",
      "Phoenix Suns                   vs         Brooklyn Nets\n",
      "Miami Heat                     vs         Detroit Pistons\n",
      "Denver Nuggets                 vs         Charlotte Hornets\n",
      "Sacramento Kings               vs         Orlando Magic\n",
      "Los Angeles Lakers             vs         Philadelphia 76ers\n",
      "New York Knicks                vs         Minnesota Timberwolves\n",
      "\n",
      "Lines\n",
      "San Antonio Spurs Los Angeles Clippers 2.863174986210556\n"
     ]
    }
   ],
   "source": [
    "\n"
   ]
  },
  {
   "cell_type": "code",
   "execution_count": 23,
   "metadata": {
    "collapsed": false
   },
   "outputs": [
    {
     "name": "stdout",
     "output_type": "stream",
     "text": [
      "0 Golden State Warriors  1681.7957149415556  \n",
      "1 San Antonio Spurs      1631.5984926532117  \n",
      "2 Los Angeles Clippers   1622.5953502409864  \n",
      "3 Atlanta Hawks          1598.6247129133644  \n",
      "4 Houston Rockets        1595.729813605673   \n",
      "5 Cleveland Cavaliers    1591.6974586107244  \n",
      "6 Memphis Grizzlies      1569.080726686965   \n",
      "7 Oklahoma City Thunder  1551.3445410599995  \n",
      "8 Portland Trail Blazers 1548.5362524851296  \n",
      "9 Chicago Bulls          1547.1233892479574  \n",
      "10 Dallas Mavericks       1544.4127404909543  \n",
      "11 Toronto Raptors        1533.6684536679481  \n",
      "12 Utah Jazz              1528.5752850266276  \n",
      "13 New Orleans Pelicans   1524.5770540152646  \n",
      "14 Boston Celtics         1512.3985791442822  \n",
      "15 Washington Wizards     1507.362180181175   \n",
      "16 Indiana Pacers         1503.8669864103838  \n",
      "17 Milwaukee Bucks        1495.9004157194106  \n",
      "18 Phoenix Suns           1480.2003117955871  \n",
      "19 Brooklyn Nets          1476.1186869127646  \n",
      "20 Miami Heat             1474.4015706612252  \n",
      "21 Detroit Pistons        1461.026923038586   \n",
      "22 Denver Nuggets         1435.5379047044776  \n",
      "23 Charlotte Hornets      1430.5385639522622  \n",
      "24 Sacramento Kings       1417.5531038335637  \n",
      "25 Orlando Magic          1381.1750455930198  \n",
      "26 Los Angeles Lakers     1352.4194298168143  \n",
      "27 Philadelphia 76ers     1347.2318509863287  \n",
      "28 New York Knicks        1328.7788463460777  \n",
      "29 Minnesota Timberwolves 1326.12961525768    \n"
     ]
    }
   ],
   "source": [
    "for number, info in enumerate(d):\n",
    "    name, v = info\n",
    "    elo, _, _ = v\n",
    "    print( \"{} {:<22} {:<20}\".format(number, name, elo))"
   ]
  },
  {
   "cell_type": "code",
   "execution_count": null,
   "metadata": {
    "collapsed": true
   },
   "outputs": [],
   "source": [
    "print(ranking.ID(Golden State Warriors))"
   ]
  },
  {
   "cell_type": "code",
   "execution_count": null,
   "metadata": {
    "collapsed": true
   },
   "outputs": [],
   "source": [
    "update_elo(1,28)"
   ]
  },
  {
   "cell_type": "code",
   "execution_count": null,
   "metadata": {
    "collapsed": true
   },
   "outputs": [],
   "source": [
    "update_elo(2,1)"
   ]
  },
  {
   "cell_type": "code",
   "execution_count": null,
   "metadata": {
    "collapsed": true
   },
   "outputs": [],
   "source": []
  }
 ],
 "metadata": {
  "kernelspec": {
   "display_name": "Python 3",
   "language": "python",
   "name": "python3"
  },
  "language_info": {
   "codemirror_mode": {
    "name": "ipython",
    "version": 3
   },
   "file_extension": ".py",
   "mimetype": "text/x-python",
   "name": "python",
   "nbconvert_exporter": "python",
   "pygments_lexer": "ipython3",
   "version": "3.4.3"
  }
 },
 "nbformat": 4,
 "nbformat_minor": 0
}
