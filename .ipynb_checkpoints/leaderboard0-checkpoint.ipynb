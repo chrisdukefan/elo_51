{
 "cells": [
  {
   "cell_type": "code",
   "execution_count": 63,
   "metadata": {
    "collapsed": false
   },
   "outputs": [
    {
     "name": "stdout",
     "output_type": "stream",
     "text": [
      "Team            ELO Score         Date of Last Game Games Played \n",
      "Boston Celtics  1592.6989002444523 2012-04-26 00:00:00 66 \n",
      "Portland Trail Blazers 1549.8413160493174 2012-04-26 00:00:00 66 \n",
      "New Jersey Nets 1514.3957296930382 2012-04-26 00:00:00 66 \n",
      "Toronto Raptors 1534.3609031993653 2012-04-26 00:00:00 66 \n",
      "Washington Wizards 1519.9270616527224 2012-04-26 00:00:00 66 \n",
      "New York Knicks 1583.237225025806 2012-04-26 00:00:00 66 \n",
      "Charlotte Bobcats 1454.015145215582 2012-04-26 00:00:00 66 \n",
      "Miami Heat      1616.176514799308 2012-04-26 00:00:00 66 \n",
      "Orlando Magic   1576.4951645404983 2012-04-26 00:00:00 66 \n",
      "Indiana Pacers  1602.4380277183436 2012-04-25 00:00:00 66 \n",
      "Atlanta Hawks   1595.750378020135 2012-04-26 00:00:00 66 \n",
      "San Antonio Spurs 1636.8096403153424 2012-04-26 00:00:00 66 \n",
      "Chicago Bulls   1633.8860161822615 2012-04-26 00:00:00 66 \n",
      "Los Angeles Lakers 1589.057556432106 2012-04-26 00:00:00 66 \n",
      "New Orleans Hornets 1525.6189203290314 2012-04-26 00:00:00 66 \n",
      "Milwaukee Bucks 1563.5205458084008 2012-04-26 00:00:00 66 \n",
      "Golden State Warriors 1529.9015035525822 2012-04-26 00:00:00 66 \n",
      "Phoenix Suns    1567.9801521796828 2012-04-25 00:00:00 66 \n",
      "Houston Rockets 1565.0278196295276 2012-04-26 00:00:00 66 \n",
      "Sacramento Kings 1520.4411227151613 2012-04-26 00:00:00 66 \n",
      "Oklahoma City Thunder 1624.219790629175 2012-04-25 00:00:00 66 \n",
      "Memphis Grizzlies 1594.4070837402871 2012-04-26 00:00:00 66 \n",
      "Denver Nuggets  1588.33871945695  2012-04-26 00:00:00 66 \n",
      "Philadelphia 76ers 1580.5116732607567 2012-04-26 00:00:00 66 \n",
      "Cleveland Cavaliers 1508.5932694833098 2012-04-26 00:00:00 66 \n",
      "Minnesota Timberwolves 1535.1961898474158 2012-04-26 00:00:00 66 \n",
      "Detroit Pistons 1529.6504170577762 2012-04-26 00:00:00 66 \n",
      "Los Angeles Clippers 1593.836299422595 2012-04-25 00:00:00 66 \n",
      "Dallas Mavericks 1576.4034942958237 2012-04-26 00:00:00 66 \n",
      "Utah Jazz       1577.263419503246 2012-04-26 00:00:00 66 \n"
     ]
    }
   ],
   "source": [
    "import elo_optim1\n",
    "import operator\n",
    "d = elo_optim1.ID\n",
    "\n",
    "print( \"{:<15} {:<17} {:<10} {:<10} \".format('Team','ELO Score','Date of Last Game', 'Games Played'))\n",
    "for k, v in d.items():\n",
    "    label, num, fun = v\n",
    "    print( \"{:<15} {:<17} {} {} \".format(k, label, num, fun))\n",
    "\n",
    "\n"
   ]
  },
  {
   "cell_type": "raw",
   "metadata": {},
   "source": []
  }
 ],
 "metadata": {
  "kernelspec": {
   "display_name": "Python 3",
   "language": "python",
   "name": "python3"
  },
  "language_info": {
   "codemirror_mode": {
    "name": "ipython",
    "version": 3
   },
   "file_extension": ".py",
   "mimetype": "text/x-python",
   "name": "python",
   "nbconvert_exporter": "python",
   "pygments_lexer": "ipython3",
   "version": "3.4.3"
  }
 },
 "nbformat": 4,
 "nbformat_minor": 0
}
