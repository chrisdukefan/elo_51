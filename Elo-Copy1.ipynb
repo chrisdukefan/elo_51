{
 "cells": [
  {
   "cell_type": "code",
   "execution_count": 3,
   "metadata": {
    "collapsed": true
   },
   "outputs": [],
   "source": [
    "import pandas"
   ]
  },
  {
   "cell_type": "code",
   "execution_count": 21,
   "metadata": {
    "collapsed": false
   },
   "outputs": [
    {
     "name": "stdout",
     "output_type": "stream",
     "text": [
      "0.6814874696847211\n",
      "{'Indiana Pacers': (1502.8124037784362, datetime.datetime(2015, 4, 15, 0, 0), 82), 'Washington Wizards': (1507.9767355927431, datetime.datetime(2015, 4, 15, 0, 0), 82), 'Utah Jazz': (1524.5683649736127, datetime.datetime(2015, 4, 15, 0, 0), 83), 'Sacramento Kings': (1421.6935334523475, datetime.datetime(2015, 4, 15, 0, 0), 82), 'Atlanta Hawks': (1595.8911698512443, datetime.datetime(2015, 4, 15, 0, 0), 82), 'Orlando Magic': (1387.8858265829069, datetime.datetime(2015, 4, 15, 0, 0), 82), 'Memphis Grizzlies': (1566.3916400217888, datetime.datetime(2015, 4, 15, 0, 0), 82), 'Phoenix Suns': (1482.5824779068894, datetime.datetime(2015, 4, 14, 0, 0), 82), 'New York Knicks': (1338.1405946679301, datetime.datetime(2015, 4, 15, 0, 0), 82), 'Oklahoma City Thunder': (1548.0647462869931, datetime.datetime(2015, 4, 15, 0, 0), 82), 'Boston Celtics': (1509.5798026910663, datetime.datetime(2015, 4, 15, 0, 0), 82), 'Detroit Pistons': (1462.3987459969276, datetime.datetime(2015, 4, 15, 0, 0), 82), 'Miami Heat': (1475.3340857456433, datetime.datetime(2015, 4, 15, 0, 0), 83), 'Brooklyn Nets': (1476.1186579698585, datetime.datetime(2015, 4, 15, 0, 0), 82), 'Houston Rockets': (1590.1430679547229, datetime.datetime(2015, 4, 15, 0, 0), 83), 'Portland Trail Blazers': (1547.9188499343015, datetime.datetime(2015, 4, 15, 0, 0), 84), 'Dallas Mavericks': (1542.7061468541465, datetime.datetime(2015, 4, 15, 0, 0), 83), 'Toronto Raptors': (1533.5928313541542, datetime.datetime(2015, 4, 15, 0, 0), 82), 'Denver Nuggets': (1438.1622878630037, datetime.datetime(2015, 4, 15, 0, 0), 83), 'Los Angeles Clippers': (1615.1469765324321, datetime.datetime(2015, 4, 14, 0, 0), 83), 'Philadelphia 76ers': (1354.9014113486794, datetime.datetime(2015, 4, 15, 0, 0), 83), 'New Orleans Pelicans': (1522.6834175263643, datetime.datetime(2015, 4, 15, 0, 0), 82), 'Los Angeles Lakers': (1361.1423230725557, datetime.datetime(2015, 4, 15, 0, 0), 83), 'Milwaukee Bucks': (1497.1750478221045, datetime.datetime(2015, 4, 15, 0, 0), 83), 'San Antonio Spurs': (1622.6979672638552, datetime.datetime(2015, 4, 15, 0, 0), 82), 'Charlotte Hornets': (1435.366563010901, datetime.datetime(2015, 4, 15, 0, 0), 83), 'Cleveland Cavaliers': (1586.3253796151491, datetime.datetime(2015, 4, 15, 0, 0), 83), 'Chicago Bulls': (1544.7636699958107, datetime.datetime(2015, 4, 15, 0, 0), 83), 'Golden State Warriors': (1672.0825187501139, datetime.datetime(2015, 4, 15, 0, 0), 82), 'Minnesota Timberwolves': (1335.7527555833169, datetime.datetime(2015, 4, 15, 0, 0), 82)}\n"
     ]
    }
   ],
   "source": [
    "import pandas\n",
    "import numpy as np\n",
    "import datetime\n",
    "def score_elo(hp1,hp2,hp3,hp4,csv): # define a new function that takes in hyperparameter values and returns the percent of games correctly predicted\n",
    "    data = pandas.read_csv(csv)\n",
    "    ID = {}\n",
    "    outcomes = []\n",
    "    for idx, row in data.iterrows():\n",
    "        if data.loc[idx,'PTS']>data.loc[idx,'PTS.1']:\n",
    "            winner = data.loc[idx,'Visitor/Neutral']; loser = data.loc[idx,'Home/Neutral'];\n",
    "            pd = data.loc[idx,'PTS'] - data.loc[idx,'PTS.1']; hm_i = 0\n",
    "        else:\n",
    "            winner = data.loc[idx,'Home/Neutral']; loser = data.loc[idx,'Visitor/Neutral'];\n",
    "            pd = data.loc[idx,'PTS.1'] - data.loc[idx,'PTS'];hm_i = 1\n",
    "        game_date = datetime.datetime.strptime(data.loc[idx][\"Date\"],\"%a, %b %d, %Y\")\n",
    "        if winner in ID.keys():\n",
    "            w_elo = ID[winner][0]\n",
    "            if (ID[winner][1] - game_date).days == 1: w_date = 1 \n",
    "            else: w_date = 0\n",
    "            w_games = ID[winner][2]\n",
    "        else: \n",
    "            w_elo = 1500\n",
    "            w_date = 0\n",
    "            w_games = 0\n",
    "        if loser in ID.keys():\n",
    "            l_elo = ID[loser][0]\n",
    "            if (ID[loser][1] - game_date).days == 1: l_date = 1\n",
    "            else: l_date = 0\n",
    "            l_games = ID[loser][2]\n",
    "        else: \n",
    "            l_elo = 1500\n",
    "            l_date = 0\n",
    "            l_games = 0\n",
    "        if hm_i == 1: w_elo_g = w_elo+hp3 + hp4*w_date; l_elo_g = l_elo + hp4*l_date\n",
    "        else: l_elo_g = l_elo +hp3 + hp4*l_date; w_elo_g = w_elo + hp4*l_date;\n",
    "        if w_elo_g>l_elo_g: outcomes.append(1)\n",
    "        if l_elo_g>w_elo_g: outcomes.append(0)\n",
    "        w_new_elo = (w_elo+np.log(pd+1)*(2.2/((w_elo-l_elo)*.001+2.2))*hp1*(1-(1/(1+10**((l_elo_g-w_elo_g)/400)))))\n",
    "        l_new_elo = (l_elo+np.log(pd+1)*(2.2/((w_elo-l_elo)*.001+2.2))*hp1*(0-(1/(1+10**((w_elo_g-l_elo_g)/400)))))\n",
    "        ID[winner]=(w_new_elo,game_date,w_games + 1);\n",
    "        ID[loser]=(l_new_elo,game_date,l_games + 1)\n",
    "    print (sum(outcomes)/float(len(outcomes)))\n",
    "    print(ID)\n",
    "score_elo(4.5, 550, 4.5, -3.25, 'games2015.csv') # run the function on the 2015 data with the given hyperparameters"
   ]
  },
  {
   "cell_type": "code",
   "execution_count": 6,
   "metadata": {
    "collapsed": false
   },
   "outputs": [
    {
     "data": {
      "text/plain": [
       "7"
      ]
     },
     "execution_count": 6,
     "metadata": {},
     "output_type": "execute_result"
    }
   ],
   "source": [
    "3+4"
   ]
  },
  {
   "cell_type": "code",
   "execution_count": 7,
   "metadata": {
    "collapsed": false
   },
   "outputs": [
    {
     "data": {
      "text/plain": [
       "437395"
      ]
     },
     "execution_count": 7,
     "metadata": {},
     "output_type": "execute_result"
    }
   ],
   "source": [
    "7*62485"
   ]
  },
  {
   "cell_type": "code",
   "execution_count": null,
   "metadata": {
    "collapsed": true
   },
   "outputs": [],
   "source": []
  }
 ],
 "metadata": {
  "kernelspec": {
   "display_name": "Python 3",
   "language": "python",
   "name": "python3"
  },
  "language_info": {
   "codemirror_mode": {
    "name": "ipython",
    "version": 3
   },
   "file_extension": ".py",
   "mimetype": "text/x-python",
   "name": "python",
   "nbconvert_exporter": "python",
   "pygments_lexer": "ipython3",
   "version": "3.4.3"
  }
 },
 "nbformat": 4,
 "nbformat_minor": 0
}
