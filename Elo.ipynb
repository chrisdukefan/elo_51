{
 "cells": [
  {
   "cell_type": "code",
   "execution_count": 3,
   "metadata": {
    "collapsed": true
   },
   "outputs": [],
   "source": [
    "import pandas"
   ]
  },
  {
   "cell_type": "code",
   "execution_count": 44,
   "metadata": {
    "collapsed": false
   },
   "outputs": [
    {
     "name": "stdout",
     "output_type": "stream",
     "text": [
      "0.655\n"
     ]
    }
   ],
   "source": [
    "data = pandas.read_csv('games2015.csv')\n",
    "data['total']=data['PTS']+data['PTS.1']\n",
    "ID = {}\n",
    "for idx, row in data.iterrows():\n",
    "    if data.loc[idx,'PTS']>data.loc[idx,'PTS.1']:\n",
    "        winner = data.loc[idx,'Visitor/Neutral']; loser = data.loc[idx,'Home/Neutral'];\n",
    "        pd = data.loc[idx,'PTS'] - data.loc[idx,'PTS.1']\n",
    "    else:\n",
    "        winner = data.loc[idx,'Home/Neutral']; loser = data.loc[idx,'Visitor/Neutral'];\n",
    "        pd = data.loc[idx,'PTS.1'] - data.loc[idx,'PTS']\n",
    "    ;\n",
    "    if winner in ID.keys():\n",
    "        w_elo = ID[winner]\n",
    "    else: w_elo = 1500;\n",
    "    if loser in ID.keys():\n",
    "        l_elo = ID[loser]\n",
    "    else: l_elo = 1500;\n",
    "    ID[winner]=(w_elo+20*(1-(1/(1+10**((l_elo-w_elo)/400)))));\n",
    "    ID[loser]=(l_elo+20*(0-(1/(1+10**((w_elo-l_elo)/400)))))\n",
    "print ID\n"
   ]
  },
  {
   "cell_type": "code",
   "execution_count": null,
   "metadata": {
    "collapsed": true
   },
   "outputs": [],
   "source": []
  }
 ],
 "metadata": {
  "kernelspec": {
   "display_name": "Python 2",
   "language": "python",
   "name": "python2"
  },
  "language_info": {
   "codemirror_mode": {
    "name": "ipython",
    "version": 2
   },
   "file_extension": ".py",
   "mimetype": "text/x-python",
   "name": "python",
   "nbconvert_exporter": "python",
   "pygments_lexer": "ipython2",
   "version": "2.7.9"
  }
 },
 "nbformat": 4,
 "nbformat_minor": 0
}
