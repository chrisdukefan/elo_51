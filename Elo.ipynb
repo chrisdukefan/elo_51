{
 "cells": [
  {
   "cell_type": "code",
   "execution_count": 3,
   "metadata": {
    "collapsed": true
   },
   "outputs": [],
   "source": [
    "import pandas"
   ]
  },
  {
   "cell_type": "code",
   "execution_count": 9,
   "metadata": {
    "collapsed": false
   },
   "outputs": [
    {
     "name": "stdout",
     "output_type": "stream",
     "text": [
      "0.6853658536585366\n",
      "{'Atlanta Hawks': (1592.3221646552713, datetime.datetime(2015, 4, 15, 0, 0), 82), 'Utah Jazz': (1516.48595975577, datetime.datetime(2015, 4, 15, 0, 0), 82), 'Toronto Raptors': (1533.4861742667897, datetime.datetime(2015, 4, 15, 0, 0), 82), 'Memphis Grizzlies': (1562.962876746207, datetime.datetime(2015, 4, 15, 0, 0), 82), 'Boston Celtics': (1506.8509506512285, datetime.datetime(2015, 4, 15, 0, 0), 82), 'Washington Wizards': (1508.806420610116, datetime.datetime(2015, 4, 15, 0, 0), 82), 'Dallas Mavericks': (1542.514696063733, datetime.datetime(2015, 4, 15, 0, 0), 82), 'Chicago Bulls': (1545.7996149706253, datetime.datetime(2015, 4, 15, 0, 0), 82), 'Indiana Pacers': (1501.7095796377175, datetime.datetime(2015, 4, 15, 0, 0), 82), 'Cleveland Cavaliers': (1578.1696313550585, datetime.datetime(2015, 4, 15, 0, 0), 82), 'Phoenix Suns': (1484.959770770055, datetime.datetime(2015, 4, 14, 0, 0), 82), 'Sacramento Kings': (1426.5621633736066, datetime.datetime(2015, 4, 15, 0, 0), 82), 'Orlando Magic': (1395.3244939826411, datetime.datetime(2015, 4, 15, 0, 0), 82), 'Minnesota Timberwolves': (1346.3615526396979, datetime.datetime(2015, 4, 15, 0, 0), 82), 'New Orleans Pelicans': (1520.8333653766965, datetime.datetime(2015, 4, 15, 0, 0), 82), 'Denver Nuggets': (1441.806808525612, datetime.datetime(2015, 4, 15, 0, 0), 82), 'San Antonio Spurs': (1613.0655906024697, datetime.datetime(2015, 4, 15, 0, 0), 82), 'Miami Heat': (1473.2481931955085, datetime.datetime(2015, 4, 15, 0, 0), 82), 'Milwaukee Bucks': (1496.1882341799987, datetime.datetime(2015, 4, 15, 0, 0), 82), 'Charlotte Hornets': (1444.0054158280645, datetime.datetime(2015, 4, 15, 0, 0), 82), 'Los Angeles Clippers': (1605.8689293672926, datetime.datetime(2015, 4, 14, 0, 0), 82), 'Portland Trail Blazers': (1548.3375960302642, datetime.datetime(2015, 4, 15, 0, 0), 82), 'Detroit Pistons': (1464.2912844654386, datetime.datetime(2015, 4, 15, 0, 0), 82), 'New York Knicks': (1348.593810006932, datetime.datetime(2015, 4, 15, 0, 0), 82), 'Brooklyn Nets': (1476.2736792080241, datetime.datetime(2015, 4, 15, 0, 0), 82), 'Los Angeles Lakers': (1371.9735677208296, datetime.datetime(2015, 4, 15, 0, 0), 82), 'Philadelphia 76ers': (1365.6216465314619, datetime.datetime(2015, 4, 15, 0, 0), 82), 'Oklahoma City Thunder': (1544.510481745335, datetime.datetime(2015, 4, 15, 0, 0), 82), 'Houston Rockets': (1581.8910041366028, datetime.datetime(2015, 4, 15, 0, 0), 82), 'Golden State Warriors': (1661.1743436009513, datetime.datetime(2015, 4, 15, 0, 0), 82)}\n"
     ]
    }
   ],
   "source": [
    "import pandas\n",
    "import numpy as np\n",
    "import datetime\n",
    "def score_elo(hp1,hp2,hp3,hp4,csv): # define a new function that takes in hyperparameter values and returns the percent of games correctly predicted\n",
    "    data = pandas.read_csv(csv)\n",
    "    ID = {}\n",
    "    outcomes = []\n",
    "    for idx, row in data.iterrows():\n",
    "        if data.loc[idx,'PTS']>data.loc[idx,'PTS.1']:\n",
    "            winner = data.loc[idx,'Visitor/Neutral']; loser = data.loc[idx,'Home/Neutral'];\n",
    "            pd = data.loc[idx,'PTS'] - data.loc[idx,'PTS.1']; hm_i = 0\n",
    "        else:\n",
    "            winner = data.loc[idx,'Home/Neutral']; loser = data.loc[idx,'Visitor/Neutral'];\n",
    "            pd = data.loc[idx,'PTS.1'] - data.loc[idx,'PTS'];hm_i = 1\n",
    "        game_date = datetime.datetime.strptime(data.loc[idx][\"Date\"],\"%a, %b %d, %Y\")\n",
    "        if winner in ID.keys():\n",
    "            w_elo = ID[winner][0]\n",
    "            if (ID[winner][1] - game_date).days == 1: w_date = 1 \n",
    "            else: w_date = 0\n",
    "            w_games = ID[winner][2]\n",
    "        else: \n",
    "            w_elo = 1500\n",
    "            w_date = 0\n",
    "            w_games = 0\n",
    "        if loser in ID.keys():\n",
    "            l_elo = ID[loser][0]\n",
    "            if (ID[loser][1] - game_date).days == 1: l_date = 1\n",
    "            else: l_date = 0\n",
    "            l_games = ID[loser][2]\n",
    "        else: \n",
    "            l_elo = 1500\n",
    "            l_date = 0\n",
    "            l_games = 0\n",
    "        if hm_i == 1: w_elo_g = w_elo+hp3 + hp4*w_date; l_elo_g = l_elo + hp4*l_date\n",
    "        else: l_elo_g = l_elo +hp3 + hp4*l_date; w_elo_g = w_elo + hp4*l_date;\n",
    "        if w_elo_g>l_elo_g: outcomes.append(1)\n",
    "        if l_elo_g>w_elo_g: outcomes.append(0)\n",
    "        w_new_elo = (w_elo+np.log(pd+1)*(2.2/((w_elo-l_elo)*.001+2.2))*hp1*(1-(1/(1+10**((l_elo_g-w_elo_g)/400)))))\n",
    "        l_new_elo = (l_elo+np.log(pd+1)*(2.2/((w_elo-l_elo)*.001+2.2))*hp1*(0-(1/(1+10**((w_elo_g-l_elo_g)/400)))))\n",
    "        ID[winner]=(w_new_elo,game_date,w_games + 1);\n",
    "        ID[loser]=(l_new_elo,game_date,l_games + 1)\n",
    "    print (sum(outcomes)/float(len(outcomes)))\n",
    "    print(ID)\n",
    "score_elo(4,700,5,-.5,'games2015.csv') # run the function on the 2015 data with the given hyperparameters"
   ]
  },
  {
   "cell_type": "code",
   "execution_count": 6,
   "metadata": {
    "collapsed": false
   },
   "outputs": [
    {
     "data": {
      "text/plain": [
       "7"
      ]
     },
     "execution_count": 6,
     "metadata": {},
     "output_type": "execute_result"
    }
   ],
   "source": [
    "3+4"
   ]
  },
  {
   "cell_type": "code",
   "execution_count": 7,
   "metadata": {
    "collapsed": false
   },
   "outputs": [
    {
     "data": {
      "text/plain": [
       "437395"
      ]
     },
     "execution_count": 7,
     "metadata": {},
     "output_type": "execute_result"
    }
   ],
   "source": [
    "7*62485"
   ]
  },
  {
   "cell_type": "code",
   "execution_count": null,
   "metadata": {
    "collapsed": true
   },
   "outputs": [],
   "source": []
  }
 ],
 "metadata": {
  "kernelspec": {
   "display_name": "Python 3",
   "language": "python",
   "name": "python3"
  },
  "language_info": {
   "codemirror_mode": {
    "name": "ipython",
    "version": 3
   },
   "file_extension": ".py",
   "mimetype": "text/x-python",
   "name": "python",
   "nbconvert_exporter": "python",
   "pygments_lexer": "ipython3",
   "version": "3.4.3"
  }
 },
 "nbformat": 4,
 "nbformat_minor": 0
}
