{
 "cells": [
  {
   "cell_type": "code",
   "execution_count": null,
   "metadata": {
    "collapsed": false
   },
   "outputs": [],
   "source": [
    "import pandas\n",
    "import numpy as np\n",
    "import datetime\n",
    "def score_elo(hp1,hp2,csv): # define a new function that takes in hyperparameter values and returns the percent of games correctly predicted\n",
    "    data = pandas.read_csv(csv)\n",
    "    ID = {}\n",
    "    outcomes = []\n",
    "    winner = {}\n",
    "    loser = {}\n",
    "    w_elo = {}\n",
    "    l_elo = {}\n",
    "    w_new_elo = {}\n",
    "    l_new_elo = {}\n",
    "    for idx, row in data.iterrows():\n",
    "        pd = data.loc[idx,'pd']\n",
    "        if pd > 0:\n",
    "            winner[0] = data.loc[idx,'hp1'];\n",
    "            winner[1] = data.loc[idx,'hp2'];\n",
    "            winner[2] = data.loc[idx,'hp3'];\n",
    "            winner[3] = data.loc[idx,'hp4'];\n",
    "            winner[4] = data.loc[idx,'hp5'];\n",
    "            loser[0] = data.loc[idx,'ap1'];\n",
    "            loser[1] = data.loc[idx,'ap2'];\n",
    "            loser[2] = data.loc[idx,'ap3'];\n",
    "            loser[3] = data.loc[idx,'ap4'];\n",
    "            loser[4] = data.loc[idx,'ap5'];\n",
    "            hm_i = 1\n",
    "        else:\n",
    "            winner[0] = data.loc[idx,'ap1'];\n",
    "            winner[1] = data.loc[idx,'ap2'];\n",
    "            winner[2] = data.loc[idx,'ap3'];\n",
    "            winner[3] = data.loc[idx,'ap4'];\n",
    "            winner[4] = data.loc[idx,'ap5'];\n",
    "            loser[0] = data.loc[idx,'hp1'];\n",
    "            loser[1] = data.loc[idx,'hp2'];\n",
    "            loser[2] = data.loc[idx,'hp3'];\n",
    "            loser[3] = data.loc[idx,'hp4'];\n",
    "            loser[4] = data.loc[idx,'hp5'];\n",
    "            hm_i = 0\n",
    "        for x in winner:\n",
    "            if winner[x] in ID.keys():\n",
    "                w_elo = ID[winner][x]\n",
    "            if loser[x] in ID.keys():\n",
    "                l_elo = ID[loser][x]\n",
    "            print ID[winner][x]\n",
    "        #w_team = w_elo[0] + w_elo[1] + w_elo[2] + w_elo[3] + w_elo[4]\n",
    "        #l_team = l_elo[0] + l_elo[1] + l_elo[2] + l_elo[3] + l_elo[4]\n",
    "        #if w_team>l_team: outcomes.append(1)\n",
    "        #if l_team>w_team: outcomes.append(0)\n",
    "        #for x in winner:\n",
    "         #   w_new_elo = (w_elo[x]+np.log(pd+1)*(2.2/((w_team-l_team)*.001+2.2))*hp1*(1-(1/(1+10**((l_team-w_team)/400)))))\n",
    "         #   l_new_elo = (l_elo[x]+np.log(pd+1)*(2.2/((w_team-l_team)*.001+2.2))*hp1*(0-(1/(1+10**((w_team-l_team)/400)))))\n",
    "         #   ID[winner][x]=(w_new_elo);\n",
    "         #   ID[loser][x]=(l_new_elo)\n",
    "   # print (sum(outcomes)/float(len(outcomes)))\n",
    "  #  print(ID)\n",
    "score_elo(3.9809149872695824, 693.0107331703836, 'rapm.csv') # run the function on the 2015 data with the given hyperparameters"
   ]
  },
  {
   "cell_type": "code",
   "execution_count": 10,
   "metadata": {
    "collapsed": false
   },
   "outputs": [
    {
     "ename": "NameError",
     "evalue": "name 'ID' is not defined",
     "output_type": "error",
     "traceback": [
      "\u001b[0;31m---------------------------------------------------------------------------\u001b[0m",
      "\u001b[0;31mNameError\u001b[0m                                 Traceback (most recent call last)",
      "\u001b[0;32m<ipython-input-10-581bc313c946>\u001b[0m in \u001b[0;36m<module>\u001b[0;34m()\u001b[0m\n\u001b[0;32m----> 1\u001b[0;31m \u001b[0;32mprint\u001b[0m\u001b[0;34m(\u001b[0m\u001b[0mID\u001b[0m\u001b[0;34m)\u001b[0m\u001b[0;34m\u001b[0m\u001b[0m\n\u001b[0m",
      "\u001b[0;31mNameError\u001b[0m: name 'ID' is not defined"
     ]
    }
   ],
   "source": []
  },
  {
   "cell_type": "code",
   "execution_count": null,
   "metadata": {
    "collapsed": true
   },
   "outputs": [],
   "source": []
  }
 ],
 "metadata": {
  "kernelspec": {
   "display_name": "Python 2",
   "language": "python",
   "name": "python2"
  },
  "language_info": {
   "codemirror_mode": {
    "name": "ipython",
    "version": 2
   },
   "file_extension": ".py",
   "mimetype": "text/x-python",
   "name": "python",
   "nbconvert_exporter": "python",
   "pygments_lexer": "ipython2",
   "version": "2.7.9"
  }
 },
 "nbformat": 4,
 "nbformat_minor": 0
}
