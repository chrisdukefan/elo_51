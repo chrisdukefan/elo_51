{
 "cells": [
  {
   "cell_type": "code",
   "execution_count": 1,
   "metadata": {
    "collapsed": false,
    "scrolled": true
   },
   "outputs": [
    {
     "name": "stdout",
     "output_type": "stream",
     "text": [
      "[((4, 700, 2, -0.05), 0.6353535353535353), ((4, 400, 2, -0.05), 0.6353535353535353), ((4, 700, 2, -0.1), 0.6353535353535353), ((4, 500, 2, -0.05), 0.6353535353535353), ((4, 600, 2, -0.1), 0.6353535353535353), ((4, 500, 2, -0.1), 0.6353535353535353), ((4, 600, 2, -0.05), 0.6353535353535353), ((4, 400, 2, -0.1), 0.6353535353535353), ((3, 500, 2, -0.05), 0.6333333333333333), ((3, 600, 2, -0.1), 0.6333333333333333), ((3, 500, 2, -0.1), 0.6333333333333333), ((3, 700, 2, -0.1), 0.6333333333333333), ((3, 400, 2, -0.1), 0.6333333333333333), ((3, 700, 2, -0.05), 0.6333333333333333), ((3, 400, 2, -0.05), 0.6333333333333333), ((3, 600, 2, -0.05), 0.6333333333333333), ((2, 700, 1, -0.05), 0.6323232323232323), ((2, 600, 2, -0.1), 0.6323232323232323), ((4, 700, 1, 0), 0.6323232323232323), ((2, 700, 1, -0.1), 0.6323232323232323), ((4, 400, 1, 0), 0.6323232323232323), ((4, 600, 1, 0), 0.6323232323232323), ((2, 500, 2, -0.1), 0.6323232323232323), ((2, 700, 2, -0.05), 0.6323232323232323), ((2, 400, 2, -0.05), 0.6323232323232323), ((2, 400, 1, -0.05), 0.6323232323232323), ((2, 500, 1, -0.1), 0.6323232323232323), ((2, 400, 2, -0.1), 0.6323232323232323), ((2, 700, 2, -0.1), 0.6323232323232323), ((2, 500, 2, -0.05), 0.6323232323232323), ((2, 600, 1, -0.1), 0.6323232323232323), ((2, 400, 1, -0.1), 0.6323232323232323), ((2, 600, 1, -0.05), 0.6323232323232323), ((2, 500, 1, -0.05), 0.6323232323232323), ((4, 500, 1, 0), 0.6323232323232323), ((2, 600, 2, -0.05), 0.6323232323232323), ((3, 500, 1, 0), 0.6313131313131313), ((3, 400, 1, -0.05), 0.6313131313131313), ((3, 600, 1, -0.05), 0.6313131313131313), ((3, 400, 1, 0), 0.6313131313131313), ((3, 700, 1, -0.1), 0.6313131313131313), ((3, 600, 1, 0), 0.6313131313131313), ((3, 600, 1, -0.1), 0.6313131313131313), ((3, 700, 1, -0.05), 0.6313131313131313), ((3, 700, 1, 0), 0.6313131313131313), ((3, 400, 1, -0.1), 0.6313131313131313), ((3, 500, 1, -0.1), 0.6313131313131313), ((3, 500, 1, -0.05), 0.6313131313131313), ((4, 500, 1, -0.1), 0.6292929292929293), ((4, 600, 1, -0.05), 0.6292929292929293), ((4, 700, 1, -0.1), 0.6292929292929293), ((4, 400, 1, -0.1), 0.6292929292929293), ((4, 600, 1, -0.1), 0.6292929292929293), ((4, 400, 1, -0.05), 0.6292929292929293), ((4, 700, 1, -0.05), 0.6292929292929293), ((4, 500, 1, -0.05), 0.6292929292929293), ((2, 700, 1, 0), 0.6262626262626263), ((2, 600, 1, 0), 0.6262626262626263), ((2, 500, 1, 0), 0.6262626262626263), ((2, 400, 1, 0), 0.6262626262626263), ((4, 700, 2, 0), 0.6252525252525253), ((3, 700, 2, 0), 0.6252525252525253), ((3, 400, 2, 0), 0.6252525252525253), ((3, 600, 2, 0), 0.6252525252525253), ((4, 400, 2, 0), 0.6252525252525253), ((4, 500, 2, 0), 0.6252525252525253), ((3, 500, 2, 0), 0.6252525252525253), ((4, 600, 2, 0), 0.6252525252525253), ((2, 700, 2, 0), 0.6191919191919192), ((2, 600, 2, 0), 0.6191919191919192), ((2, 500, 2, 0), 0.6191919191919192), ((2, 400, 2, 0), 0.6191919191919192)]\n"
     ]
    }
   ],
   "source": [
    "import pandas\n",
    "import operator\n",
    "import numpy as np\n",
    "import datetime\n",
    "hp_test = {}\n",
    "for hp1 in range(2,5):\n",
    "    for hp2 in (400,500,600,700):\n",
    "        for hp3 in (1,2):\n",
    "            for hp4 in (0,-.05,-.1):\n",
    "                data = pandas.read_csv('games2012.csv')\n",
    "                data['total']=data['PTS']+data['PTS.1']\n",
    "                ID = {}\n",
    "                outcomes = []\n",
    "                for idx, row in data.iterrows():\n",
    "                    if data.loc[idx,'PTS']>data.loc[idx,'PTS.1']:\n",
    "                        winner = data.loc[idx,'Visitor/Neutral']; loser = data.loc[idx,'Home/Neutral'];\n",
    "                        pd = data.loc[idx,'PTS'] - data.loc[idx,'PTS.1']; hm_i = 0\n",
    "                    else:\n",
    "                        winner = data.loc[idx,'Home/Neutral']; loser = data.loc[idx,'Visitor/Neutral'];\n",
    "                        pd = data.loc[idx,'PTS.1'] - data.loc[idx,'PTS'];hm_i = 1\n",
    "                    game_date = datetime.datetime.strptime(data.loc[idx][\"Date\"],\"%a, %b %d, %Y\")\n",
    "                    if winner in ID.keys():\n",
    "                        w_elo = ID[winner][0]\n",
    "                        if (ID[winner][1] - game_date).days == 1: w_date = 1 \n",
    "                        else: w_date = 0\n",
    "                        w_games = ID[winner][2]\n",
    "                    else: \n",
    "                        w_elo = 1500\n",
    "                        w_date = 0\n",
    "                        w_games = 0\n",
    "                    if loser in ID.keys():\n",
    "                        l_elo = ID[loser][0]\n",
    "                        if (ID[loser][1] - game_date).days == 1: l_date = 1\n",
    "                        else: l_date = 0\n",
    "                        l_games = ID[loser][2]\n",
    "                    else: \n",
    "                        l_elo = 1500\n",
    "                        l_date = 0\n",
    "                        l_games = 0\n",
    "                    if hm_i == 1: w_elo = w_elo+hp3 + hp4*w_date; l_elo = l_elo + hp4*l_date\n",
    "                    else: l_elo = l_elo +hp3 + hp4*l_date; w_elo = w_elo + hp4*l_date;\n",
    "                    if w_elo>l_elo: outcomes.append(1)\n",
    "                    if l_elo>w_elo: outcomes.append(0)\n",
    "                    w_new_elo = (w_elo+np.log(pd+1)*(2.2/((w_elo-l_elo)*.001+2.2))*hp1*(1-(1/(1+10**((l_elo-w_elo)/400)))))\n",
    "                    l_new_elo = (l_elo+np.log(pd+1)*(2.2/((w_elo-l_elo)*.001+2.2))*hp1*(0-(1/(1+10**((w_elo-l_elo)/400)))))\n",
    "                    ID[winner]=(w_new_elo,game_date,w_games + 1);\n",
    "                    ID[loser]=(l_new_elo,game_date,l_games + 1)\n",
    "                hp_test[(hp1,hp2,hp3,hp4)] = (sum(outcomes)/float(len(outcomes)))\n",
    "print sorted(hp_test.items(), key=operator.itemgetter(1),reverse=True)"
   ]
  },
  {
   "cell_type": "code",
   "execution_count": 42,
   "metadata": {
    "collapsed": false
   },
   "outputs": [
    {
     "name": "stdout",
     "output_type": "stream",
     "text": [
      "[('New York Knicks', 1429.1020865981511), ('Minnesota Timberwolves', 1429.8264966520815), ('Philadelphia 76ers', 1449.6889059015343), ('Los Angeles Lakers', 1452.8458649351214), ('Orlando Magic', 1481.041649560636), ('Sacramento Kings', 1505.7195279637463), ('Denver Nuggets', 1522.4209952449073), ('Charlotte Hornets', 1524.7164374552988), ('Detroit Pistons', 1547.3065579000677), ('Miami Heat', 1555.1196338937884), ('Brooklyn Nets', 1562.2676929516283), ('Phoenix Suns', 1566.935709631726), ('Milwaukee Bucks', 1581.4526295910337), ('Indiana Pacers', 1583.7306680480892), ('Boston Celtics', 1587.1195250155222), ('Washington Wizards', 1591.3868122903748), ('Utah Jazz', 1599.454372328689), ('New Orleans Pelicans', 1602.1887937926476), ('Toronto Raptors', 1612.6188414194928), ('Dallas Mavericks', 1624.9392707368092), ('Portland Trail Blazers', 1627.7719616507015), ('Oklahoma City Thunder', 1629.8439504046573), ('Chicago Bulls', 1630.0660556442467), ('Memphis Grizzlies', 1644.3861379004986), ('Cleveland Cavaliers', 1659.2617915991302), ('Houston Rockets', 1665.5673271745468), ('Atlanta Hawks', 1675.3897020405011), ('Los Angeles Clippers', 1685.905651019064), ('San Antonio Spurs', 1695.9071042453409), ('Golden State Warriors', 1747.188316228054)]\n"
     ]
    }
   ],
   "source": [
    "print sorted(ID.items(), key=operator.itemgetter(1))"
   ]
  },
  {
   "cell_type": "code",
   "execution_count": 73,
   "metadata": {
    "collapsed": false
   },
   "outputs": [
    {
     "name": "stdout",
     "output_type": "stream",
     "text": [
      "0.1\n"
     ]
    }
   ],
   "source": [
    "import datetime\n",
    "import re\n",
    "print -.1*((datetime.datetime.strptime(data.loc[1][\"Date\"],\"%a, %b %d, %Y\"))-(datetime.datetime.strptime(data.loc[6][\"Date\"],\"%a, %b %d, %Y\"))).days"
   ]
  },
  {
   "cell_type": "code",
   "execution_count": 2,
   "metadata": {
    "collapsed": false
   },
   "outputs": [
    {
     "data": {
      "text/plain": [
       "7"
      ]
     },
     "execution_count": 2,
     "metadata": {},
     "output_type": "execute_result"
    }
   ],
   "source": [
    "3+4"
   ]
  },
  {
   "cell_type": "code",
   "execution_count": null,
   "metadata": {
    "collapsed": true
   },
   "outputs": [],
   "source": []
  }
 ],
 "metadata": {
  "kernelspec": {
   "display_name": "Python 2",
   "language": "python",
   "name": "python2"
  },
  "language_info": {
   "codemirror_mode": {
    "name": "ipython",
    "version": 2
   },
   "file_extension": ".py",
   "mimetype": "text/x-python",
   "name": "python",
   "nbconvert_exporter": "python",
   "pygments_lexer": "ipython2",
   "version": "2.7.9"
  }
 },
 "nbformat": 4,
 "nbformat_minor": 0
}
