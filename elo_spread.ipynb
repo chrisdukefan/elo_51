{
 "cells": [
  {
   "cell_type": "code",
   "execution_count": 90,
   "metadata": {
    "collapsed": false
   },
   "outputs": [],
   "source": [
    "import pandas  # used for importing the .csv files\n",
    "import datetime # used for dates\n",
    "import numpy\n",
    "filea = ('games2005.csv','games2006.csv','games2007.csv','games2008.csv','games2009.csv','games2010.csv','games2015.csv')\n",
    "fileb = ('nba04.csv','nba05.csv','nba06.csv','nba07.csv','nba08.csv','nba09.csv','nba14.csv')\n",
    "for i in range(1,7):\n",
    "    games = pandas.read_csv(filea[i])\n",
    "    lines = pandas.read_csv(fileb[i])\n",
    "    games['line']=0\n",
    "    games['game_date']=0\n",
    "    lines['game_date']=0\n",
    "    games['hscore']=games['PTS.1']\n",
    "    games['rscore']=games['PTS']\n",
    "    for idx,rows in games.iterrows():\n",
    "        games.loc[idx,'game_date'] = datetime.datetime.strptime(games.loc[idx][\"Date\"],\"%a, %b %d, %Y\")\n",
    "    for idx,rows in lines.iterrows():\n",
    "        lines.loc[idx,'game_date'] = datetime.datetime.strptime(lines.loc[idx][\"date\"],\"%m/%d/%Y\")\n",
    "    s1 = pandas.merge(games, lines, how = 'left', on=['game_date','hscore','rscore'])\n",
    "    s1.to_csv(filea[i])"
   ]
  },
  {
   "cell_type": "code",
   "execution_count": 86,
   "metadata": {
    "collapsed": false
   },
   "outputs": [
    {
     "name": "stdout",
     "output_type": "stream",
     "text": [
      "0.6772357723577236\n",
      "[ 0.03433173  1.58332637]\n"
     ]
    }
   ],
   "source": [
    "import pandas\n",
    "import numpy as np\n",
    "import datetime\n",
    "import matplotlib.pyplot as plt\n",
    "elo_spd = []\n",
    "pt_spd = []\n",
    "def score_elo(hp1,hp2,hp3,hp4,csv): # define a new function that takes in hyperparameter values and returns the percent of games correctly predicted\n",
    "    data = pandas.read_csv(csv)\n",
    "    ID = {}\n",
    "    outcomes = []\n",
    "\n",
    "    for idx, row in data.iterrows():\n",
    "        if data.loc[idx,'PTS']>data.loc[idx,'PTS.1']:\n",
    "            winner = data.loc[idx,'Visitor/Neutral']; loser = data.loc[idx,'Home/Neutral'];\n",
    "            pd = data.loc[idx,'PTS'] - data.loc[idx,'PTS.1']; hm_i = 0\n",
    "        else:\n",
    "            winner = data.loc[idx,'Home/Neutral']; loser = data.loc[idx,'Visitor/Neutral'];\n",
    "            pd = data.loc[idx,'PTS.1'] - data.loc[idx,'PTS'];hm_i = 1\n",
    "        game_date = datetime.datetime.strptime(data.loc[idx][\"Date\"],\"%a, %b %d, %Y\")\n",
    "        if winner in ID.keys():\n",
    "            w_elo = ID[winner][0]\n",
    "            if (ID[winner][1] - game_date).days == 1: w_date = 1 \n",
    "            else: w_date = 0\n",
    "            w_games = ID[winner][2]\n",
    "        else: \n",
    "            w_elo = 1500\n",
    "            w_date = 0\n",
    "            w_games = 0\n",
    "        if loser in ID.keys():\n",
    "            l_elo = ID[loser][0]\n",
    "            if (ID[loser][1] - game_date).days == 1: l_date = 1\n",
    "            else: l_date = 0\n",
    "            l_games = ID[loser][2]\n",
    "        else: \n",
    "            l_elo = 1500\n",
    "            l_date = 0\n",
    "            l_games = 0\n",
    "        if hm_i == 1: w_elo_g = w_elo+hp3 + hp4*w_date; l_elo_g = l_elo + hp4*l_date\n",
    "        else: l_elo_g = l_elo +hp3 + hp4*l_date; w_elo_g = w_elo + hp4*l_date;\n",
    "        dif = w_elo_g - l_elo_g\n",
    "        if dif>=0:\n",
    "            pt_spd.append(pd)\n",
    "            elo_spd.append(dif)\n",
    "        else:\n",
    "            pt_spd.append(-pd)\n",
    "            elo_spd.append(-dif)\n",
    "        if w_elo_g>l_elo_g: outcomes.append(1)\n",
    "        if l_elo_g>w_elo_g: outcomes.append(0)\n",
    "        w_new_elo = (w_elo+np.log(pd+1)*(2.2/((w_elo-l_elo)*.001+2.2))*hp1*(1-(1/(1+10**((l_elo_g-w_elo_g)/400)))))\n",
    "        l_new_elo = (l_elo+np.log(pd+1)*(2.2/((w_elo-l_elo)*.001+2.2))*hp1*(0-(1/(1+10**((w_elo_g-l_elo_g)/400)))))\n",
    "        ID[winner]=(w_new_elo,game_date,w_games + 1);\n",
    "        ID[loser]=(l_new_elo,game_date,l_games + 1)\n",
    "    print (sum(outcomes)/float(len(outcomes)))\n",
    "score_elo(10,700,10,-.5,'games2015.csv')# run the function on the 2015 data with the given hyperparameters\n",
    "print (np.polyfit(elo_spd,pt_spd,1))"
   ]
  },
  {
   "cell_type": "code",
   "execution_count": 63,
   "metadata": {
    "collapsed": false
   },
   "outputs": [
    {
     "name": "stdout",
     "output_type": "stream",
     "text": [
      "2.36430226426\n"
     ]
    }
   ],
   "source": [
    "print (np.polyfit(elo_spd,pt_spd,1)[1])"
   ]
  },
  {
   "cell_type": "code",
   "execution_count": 87,
   "metadata": {
    "collapsed": false
   },
   "outputs": [
    {
     "name": "stdout",
     "output_type": "stream",
     "text": [
      "154.49039493068128\n",
      "190023.18576473798\n"
     ]
    }
   ],
   "source": [
    "elo_pred= [elo_spds*np.polyfit(elo_spd,pt_spd,1)[0] + np.polyfit(elo_spd,pt_spd,1)[1] for elo_spds in elo_spd]\n",
    "se= [np.float64((elo_preds - pt_spds)).item()**2.0 for elo_preds,pt_spds in zip(elo_pred,pt_spd)]\n",
    "print (sum(se)/len(se))\n",
    "print (sum(se))\n"
   ]
  },
  {
   "cell_type": "code",
   "execution_count": 82,
   "metadata": {
    "collapsed": false
   },
   "outputs": [
    {
     "ename": "LinAlgError",
     "evalue": "SVD did not converge in Linear Least Squares",
     "output_type": "error",
     "traceback": [
      "\u001b[0;31m---------------------------------------------------------------------------\u001b[0m",
      "\u001b[0;31mLinAlgError\u001b[0m                               Traceback (most recent call last)",
      "\u001b[0;32m<ipython-input-82-765553dc8a3b>\u001b[0m in \u001b[0;36m<module>\u001b[0;34m()\u001b[0m\n\u001b[1;32m      1\u001b[0m \u001b[0mA\u001b[0m \u001b[0;34m=\u001b[0m \u001b[0mnp\u001b[0m\u001b[0;34m.\u001b[0m\u001b[0mpower\u001b[0m\u001b[0;34m.\u001b[0m\u001b[0mouter\u001b[0m\u001b[0;34m(\u001b[0m\u001b[0melo_spd\u001b[0m\u001b[0;34m,\u001b[0m\u001b[0mnp\u001b[0m\u001b[0;34m.\u001b[0m\u001b[0marange\u001b[0m\u001b[0;34m(\u001b[0m\u001b[0;36m1\u001b[0m\u001b[0;34m,\u001b[0m\u001b[0mlen\u001b[0m\u001b[0;34m(\u001b[0m\u001b[0melo_spd\u001b[0m\u001b[0;34m)\u001b[0m\u001b[0;34m)\u001b[0m\u001b[0;34m)\u001b[0m\u001b[0;34m\u001b[0m\u001b[0m\n\u001b[0;32m----> 2\u001b[0;31m \u001b[0moutputs\u001b[0m \u001b[0;34m=\u001b[0m \u001b[0mnp\u001b[0m\u001b[0;34m.\u001b[0m\u001b[0mlinalg\u001b[0m\u001b[0;34m.\u001b[0m\u001b[0mlstsq\u001b[0m\u001b[0;34m(\u001b[0m\u001b[0mA\u001b[0m\u001b[0;34m,\u001b[0m\u001b[0mpt_spd\u001b[0m\u001b[0;34m)\u001b[0m\u001b[0;34m\u001b[0m\u001b[0m\n\u001b[0m",
      "\u001b[0;32m/Users/harrisonchase/anaconda/envs/py34/lib/python3.4/site-packages/numpy/linalg/linalg.py\u001b[0m in \u001b[0;36mlstsq\u001b[0;34m(a, b, rcond)\u001b[0m\n\u001b[1;32m   1867\u001b[0m                                  0, work, lwork, iwork, 0)\n\u001b[1;32m   1868\u001b[0m     \u001b[0;32mif\u001b[0m \u001b[0mresults\u001b[0m\u001b[0;34m[\u001b[0m\u001b[0;34m'info'\u001b[0m\u001b[0;34m]\u001b[0m \u001b[0;34m>\u001b[0m \u001b[0;36m0\u001b[0m\u001b[0;34m:\u001b[0m\u001b[0;34m\u001b[0m\u001b[0m\n\u001b[0;32m-> 1869\u001b[0;31m         \u001b[0;32mraise\u001b[0m \u001b[0mLinAlgError\u001b[0m\u001b[0;34m(\u001b[0m\u001b[0;34m'SVD did not converge in Linear Least Squares'\u001b[0m\u001b[0;34m)\u001b[0m\u001b[0;34m\u001b[0m\u001b[0m\n\u001b[0m\u001b[1;32m   1870\u001b[0m     \u001b[0mresids\u001b[0m \u001b[0;34m=\u001b[0m \u001b[0marray\u001b[0m\u001b[0;34m(\u001b[0m\u001b[0;34m[\u001b[0m\u001b[0;34m]\u001b[0m\u001b[0;34m,\u001b[0m \u001b[0mresult_real_t\u001b[0m\u001b[0;34m)\u001b[0m\u001b[0;34m\u001b[0m\u001b[0m\n\u001b[1;32m   1871\u001b[0m     \u001b[0;32mif\u001b[0m \u001b[0mis_1d\u001b[0m\u001b[0;34m:\u001b[0m\u001b[0;34m\u001b[0m\u001b[0m\n",
      "\u001b[0;31mLinAlgError\u001b[0m: SVD did not converge in Linear Least Squares"
     ]
    }
   ],
   "source": [
    "A = np.power.outer(elo_spd,np.arange(1,len(elo_spd))) \n",
    "outputs = np.linalg.lstsq(A,pt_spd) "
   ]
  },
  {
   "cell_type": "code",
   "execution_count": null,
   "metadata": {
    "collapsed": true
   },
   "outputs": [],
   "source": []
  }
 ],
 "metadata": {
  "kernelspec": {
   "display_name": "Python 3",
   "language": "python",
   "name": "python3"
  },
  "language_info": {
   "codemirror_mode": {
    "name": "ipython",
    "version": 3
   },
   "file_extension": ".py",
   "mimetype": "text/x-python",
   "name": "python",
   "nbconvert_exporter": "python",
   "pygments_lexer": "ipython3",
   "version": "3.4.3"
  }
 },
 "nbformat": 4,
 "nbformat_minor": 0
}
