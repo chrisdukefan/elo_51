{
 "cells": [
  {
   "cell_type": "code",
   "execution_count": 3,
   "metadata": {
    "collapsed": false
   },
   "outputs": [
    {
     "name": "stdout",
     "output_type": "stream",
     "text": [
      "0.661740558292\n",
      "{'Los Angeles Lakers': (22.751674328988312, 0.2963211288389177, datetime.datetime(2015, 4, 15, 0, 0), 83), 'Memphis Grizzlies': (26.829215245747015, 0.32042508973785289, datetime.datetime(2015, 4, 15, 0, 0), 82), 'San Antonio Spurs': (26.900720498772618, 0.30368085835973335, datetime.datetime(2015, 4, 15, 0, 0), 82), 'Chicago Bulls': (25.897049806126066, 0.2798848680552779, datetime.datetime(2015, 4, 15, 0, 0), 83), 'Philadelphia 76ers': (22.060852503924004, 0.32858262600132515, datetime.datetime(2015, 4, 15, 0, 0), 83), 'Detroit Pistons': (23.964611894450105, 0.27140438736321099, datetime.datetime(2015, 4, 15, 0, 0), 82), 'Boston Celtics': (24.746985769908122, 0.27443337368634935, datetime.datetime(2015, 4, 15, 0, 0), 82), 'Miami Heat': (24.338111319182932, 0.27687393822089856, datetime.datetime(2015, 4, 15, 0, 0), 83), 'Orlando Magic': (22.936856105972062, 0.28810394881802848, datetime.datetime(2015, 4, 15, 0, 0), 82), 'Portland Trail Blazers': (26.103224737788256, 0.30640100508635942, datetime.datetime(2015, 4, 15, 0, 0), 84), 'Golden State Warriors': (28.456625568263192, 0.38312124445505846, datetime.datetime(2015, 4, 15, 0, 0), 82), 'New York Knicks': (21.751288299328802, 0.33761819388077835, datetime.datetime(2015, 4, 15, 0, 0), 82), 'Washington Wizards': (25.391527201333236, 0.2938984463878514, datetime.datetime(2015, 4, 15, 0, 0), 82), 'Utah Jazz': (24.949998984667701, 0.27692646682976735, datetime.datetime(2015, 4, 15, 0, 0), 83), 'Dallas Mavericks': (26.335322534782094, 0.31009138469035558, datetime.datetime(2015, 4, 15, 0, 0), 83), 'Minnesota Timberwolves': (22.068858653936132, 0.33515916056322143, datetime.datetime(2015, 4, 15, 0, 0), 82), 'Los Angeles Clippers': (27.09800661239985, 0.31961645001641514, datetime.datetime(2015, 4, 14, 0, 0), 83), 'Oklahoma City Thunder': (25.738353536126244, 0.287736663562774, datetime.datetime(2015, 4, 15, 0, 0), 82), 'Charlotte Hornets': (23.83646474861704, 0.27487175923736573, datetime.datetime(2015, 4, 15, 0, 0), 83), 'Milwaukee Bucks': (24.857415760506452, 0.29020964218094836, datetime.datetime(2015, 4, 15, 0, 0), 83), 'Toronto Raptors': (25.626547935128588, 0.30932077680703268, datetime.datetime(2015, 4, 15, 0, 0), 82), 'Houston Rockets': (27.258734398628299, 0.32985929799300767, datetime.datetime(2015, 4, 15, 0, 0), 83), 'Phoenix Suns': (24.930726219165049, 0.28898243469170998, datetime.datetime(2015, 4, 14, 0, 0), 82), 'Sacramento Kings': (23.525224181046116, 0.29512110109952189, datetime.datetime(2015, 4, 15, 0, 0), 82), 'New Orleans Pelicans': (25.540872222284239, 0.2740943471263152, datetime.datetime(2015, 4, 15, 0, 0), 82), 'Cleveland Cavaliers': (26.368999372107268, 0.2779792359375432, datetime.datetime(2015, 4, 15, 0, 0), 83), 'Atlanta Hawks': (27.123589615024951, 0.31944762042854985, datetime.datetime(2015, 4, 15, 0, 0), 82), 'Brooklyn Nets': (24.631625701525699, 0.28282495153922849, datetime.datetime(2015, 4, 15, 0, 0), 82), 'Indiana Pacers': (24.607527431786309, 0.27496545312661363, datetime.datetime(2015, 4, 15, 0, 0), 82), 'Denver Nuggets': (23.835777927555903, 0.28191923827156923, datetime.datetime(2015, 4, 15, 0, 0), 83)}\n"
     ]
    }
   ],
   "source": [
    "import pandas\n",
    "import numpy as np\n",
    "import math\n",
    "from scipy import stats\n",
    "from scipy.stats import norm\n",
    "import datetime\n",
    "# initial parameters for trueskill: mean = 25, variance = (25/3)^2, beta^2 = (25/3)^2/4, tao^2 = (25/3)^2/10000\n",
    "def score_trueskill(beta2,tao2,csv): # define a new function that takes in hyperparameter values and returns the percent of games correctly predicted\n",
    "    data = pandas.read_csv(csv)\n",
    "    ID = {}\n",
    "    outcomes = []\n",
    "    for idx, row in data.iterrows():\n",
    "        if data.loc[idx,'PTS']>data.loc[idx,'PTS.1']:\n",
    "            winner = data.loc[idx,'Visitor/Neutral']; loser = data.loc[idx,'Home/Neutral'];\n",
    "            pd = data.loc[idx,'PTS'] - data.loc[idx,'PTS.1']; hm_i = 0\n",
    "        else:\n",
    "            winner = data.loc[idx,'Home/Neutral']; loser = data.loc[idx,'Visitor/Neutral'];\n",
    "            pd = data.loc[idx,'PTS.1'] - data.loc[idx,'PTS'];hm_i = 1\n",
    "        game_date = datetime.datetime.strptime(data.loc[idx][\"Date\"],\"%a, %b %d, %Y\")\n",
    "        if winner in ID.keys():\n",
    "            w_tskillmean = ID[winner][0]\n",
    "            w_tskillvar = ID[winner][1]\n",
    "            if (ID[winner][2] - game_date).days == 1: w_date = 1 \n",
    "            else: w_date = 0\n",
    "            w_games = ID[winner][3]\n",
    "        else: \n",
    "            w_tskillmean = 25\n",
    "            w_tskillvar = (25/3)^2\n",
    "            w_date = 0\n",
    "            w_games = 0\n",
    "        if loser in ID.keys():\n",
    "            l_tskillmean = ID[loser][0]\n",
    "            l_tskillvar = ID[loser][1]\n",
    "            if (ID[loser][2] - game_date).days == 1: l_date = 1\n",
    "            else: l_date = 0\n",
    "            l_games = ID[loser][3]\n",
    "        else: \n",
    "            l_tskillmean = 25\n",
    "            l_tskillvar = (25/3)^2\n",
    "            l_date = 0\n",
    "            l_games = 0\n",
    "        w_tskill = w_tskillmean - 3 * w_tskillvar\n",
    "        l_tskill = l_tskillmean - 3 * l_tskillvar\n",
    "        if w_tskill>l_tskill: outcomes.append(1)\n",
    "        if l_tskill>w_tskill: outcomes.append(0)\n",
    "        beta2 = w_tskillmean/4\n",
    "        tao2 = w_tskillvar/10000\n",
    "        c = math.sqrt(2*beta2 + w_tskillvar + l_tskillvar)\n",
    "        t = (w_tskillmean - l_tskillmean)/c\n",
    "        v = (norm.pdf(t)/norm.cdf(t))\n",
    "        w = v * (v + t)\n",
    "        w_new_tskillmean = w_tskillmean + w_tskillvar/c * v\n",
    "        l_new_tskillmean = l_tskillmean - l_tskillvar/c * v\n",
    "        w_new_tskillvar = w_tskillvar * (1 - (w_tskillvar/(c*c))*w) + tao2\n",
    "        l_new_tskillvar = l_tskillvar * (1 - (l_tskillvar/(c*c))*w) + tao2\n",
    "        ID[winner]=(w_new_tskillmean,w_new_tskillvar,game_date,w_games + 1);\n",
    "        ID[loser]=(l_new_tskillmean,l_new_tskillvar,game_date,l_games + 1);\n",
    "    print (sum(outcomes)/float(len(outcomes)))\n",
    "    print(ID)\n",
    "score_trueskill(25,(25/3)^2,'games2015.csv') # run the function on the 2015 data with the given hyperparameters"
   ]
  },
  {
   "cell_type": "code",
   "execution_count": null,
   "metadata": {
    "collapsed": true
   },
   "outputs": [],
   "source": []
  },
  {
   "cell_type": "code",
   "execution_count": null,
   "metadata": {
    "collapsed": true
   },
   "outputs": [],
   "source": []
  }
 ],
 "metadata": {
  "kernelspec": {
   "display_name": "Python 2",
   "language": "python",
   "name": "python2"
  },
  "language_info": {
   "codemirror_mode": {
    "name": "ipython",
    "version": 2
   },
   "file_extension": ".py",
   "mimetype": "text/x-python",
   "name": "python",
   "nbconvert_exporter": "python",
   "pygments_lexer": "ipython2",
   "version": "2.7.9"
  }
 },
 "nbformat": 4,
 "nbformat_minor": 0
}
