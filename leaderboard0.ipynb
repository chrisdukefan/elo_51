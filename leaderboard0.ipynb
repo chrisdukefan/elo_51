{
 "cells": [
  {
   "cell_type": "code",
   "execution_count": null,
   "metadata": {
    "collapsed": false
   },
   "outputs": [],
   "source": [
    "import elo_optim1\n",
    "import operator\n",
    "d = (sorted(elo_optim1.ID.items(), key=operator.itemgetter(1),reverse=True))\n",
    "\n",
    "print(\"Leaderboard\")\n",
    "print(\"{:<22} {:<20} \".format('Team','ELO Score'))\n",
    "for k, v in d:\n",
    "    label, _, _ = v\n",
    "    print( \"{:<22} {:<20}\".format(k, label))\n",
    "    \n",
    "print(\"\")\n",
    "print(\"Matchmaker\")\n",
    "print(\"{:<41} {}\".format('Favored Team', 'Underdog'))\n",
    "for x in range(0,(len(d)),2):\n",
    "    print( \"{:<30} {:<10} {}\".format((d[x][0]), 'vs', d[x+1][0]))\n",
    "\n",
    "\n",
    "\n"
   ]
  },
  {
   "cell_type": "raw",
   "metadata": {},
   "source": []
  },
  {
   "cell_type": "code",
   "execution_count": 4,
   "metadata": {
    "collapsed": false
   },
   "outputs": [
    {
     "ename": "NameError",
     "evalue": "name 'd' is not defined",
     "output_type": "error",
     "traceback": [
      "\u001b[0;31m---------------------------------------------------------------------------\u001b[0m",
      "\u001b[0;31mNameError\u001b[0m                                 Traceback (most recent call last)",
      "\u001b[0;32m<ipython-input-4-e46184627ba1>\u001b[0m in \u001b[0;36m<module>\u001b[0;34m()\u001b[0m\n\u001b[0;32m----> 1\u001b[0;31m \u001b[0mlen\u001b[0m\u001b[0;34m(\u001b[0m\u001b[0md\u001b[0m\u001b[0;34m)\u001b[0m\u001b[0;34m\u001b[0m\u001b[0m\n\u001b[0m",
      "\u001b[0;31mNameError\u001b[0m: name 'd' is not defined"
     ]
    }
   ],
   "source": [
    "len(d)\n"
   ]
  },
  {
   "cell_type": "code",
   "execution_count": 42,
   "metadata": {
    "collapsed": false
   },
   "outputs": [
    {
     "name": "stdout",
     "output_type": "stream",
     "text": [
      "Favored Underdog\n",
      "Golden State Warriors  \n",
      "San Antonio Spurs      \n",
      "Los Angeles Clippers   \n",
      "Atlanta Hawks          \n",
      "Houston Rockets        \n",
      "Cleveland Cavaliers    \n",
      "Memphis Grizzlies      \n",
      "Oklahoma City Thunder  \n",
      "Chicago Bulls          \n",
      "Portland Trail Blazers \n",
      "Dallas Mavericks       \n",
      "Toronto Raptors        \n",
      "New Orleans Pelicans   \n",
      "Utah Jazz              \n",
      "Boston Celtics         \n",
      "Washington Wizards     \n",
      "Indiana Pacers         \n",
      "Milwaukee Bucks        \n",
      "Phoenix Suns           \n",
      "Brooklyn Nets          \n",
      "Miami Heat             \n",
      "Detroit Pistons        \n",
      "Denver Nuggets         \n",
      "Charlotte Hornets      \n",
      "Sacramento Kings       \n",
      "Orlando Magic          \n",
      "Los Angeles Lakers     \n",
      "Philadelphia 76ers     \n",
      "New York Knicks        \n",
      "Minnesota Timberwolves \n"
     ]
    }
   ],
   "source": [
    "print( \"{} {}\".format('Favored', 'Underdog'))\n",
    "for k, v in d:\n",
    "    print( \"{:<22} \".format(k))"
   ]
  },
  {
   "cell_type": "code",
   "execution_count": 61,
   "metadata": {
    "collapsed": false
   },
   "outputs": [
    {
     "name": "stdout",
     "output_type": "stream",
     "text": [
      "number: 0\n",
      "number: 2\n",
      "number: 4\n",
      "number: 6\n",
      "number: 8\n",
      "number: 10\n",
      "number: 12\n",
      "number: 14\n",
      "number: 16\n",
      "number: 18\n",
      "number: 20\n",
      "number: 22\n",
      "number: 24\n",
      "number: 26\n",
      "number: 28\n"
     ]
    }
   ],
   "source": [
    "for x in range(0,30,2):\n",
    "    print(\"number: {}\".format(x))"
   ]
  },
  {
   "cell_type": "code",
   "execution_count": null,
   "metadata": {
    "collapsed": true
   },
   "outputs": [],
   "source": []
  }
 ],
 "metadata": {
  "kernelspec": {
   "display_name": "Python 3",
   "language": "python",
   "name": "python3"
  },
  "language_info": {
   "codemirror_mode": {
    "name": "ipython",
    "version": 3
   },
   "file_extension": ".py",
   "mimetype": "text/x-python",
   "name": "python",
   "nbconvert_exporter": "python",
   "pygments_lexer": "ipython3",
   "version": "3.4.3"
  }
 },
 "nbformat": 4,
 "nbformat_minor": 0
}
