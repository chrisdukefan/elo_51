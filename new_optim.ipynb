{
 "cells": [
  {
   "cell_type": "code",
   "execution_count": 1,
   "metadata": {
    "collapsed": false
   },
   "outputs": [
    {
     "name": "stdout",
     "output_type": "stream",
     "text": [
      "[((3, 700, 7, -5), 0.6570576540755467), ((3, 400, 7, 0), 0.6570576540755467), ((3, 700, 7, -1), 0.6570576540755467), ((3, 700, 7, 0), 0.6570576540755467), ((3, 400, 7, -1), 0.6570576540755467), ((3, 400, 7, -3), 0.6570576540755467), ((3, 700, 7, -3), 0.6570576540755467), ((3, 400, 7, -5), 0.6570576540755467), ((3, 400, 6, -5), 0.6558979456593771), ((3, 400, 6, 0), 0.6558979456593771), ((3, 700, 6, 0), 0.6558979456593771), ((3, 400, 6, -1), 0.6558979456593771), ((3, 400, 6, -3), 0.6558979456593771), ((3, 700, 6, -1), 0.6558979456593771), ((3, 700, 6, -5), 0.6558979456593771), ((3, 700, 6, -3), 0.6558979456593771), ((4, 400, 7, 0), 0.6554837640821736), ((4, 700, 7, -1), 0.6554837640821736), ((4, 400, 7, -3), 0.6554837640821736), ((4, 700, 7, -3), 0.6554837640821736), ((4, 400, 7, -1), 0.6554837640821736), ((4, 400, 7, -5), 0.6554837640821736), ((4, 700, 7, 0), 0.6554837640821736), ((4, 700, 7, -5), 0.6554837640821736), ((3, 700, 5, -5), 0.6538270377733598), ((3, 700, 5, -1), 0.6538270377733598), ((3, 400, 5, -1), 0.6538270377733598), ((3, 400, 5, 0), 0.6538270377733598), ((3, 700, 5, 0), 0.6538270377733598), ((3, 700, 5, -3), 0.6538270377733598), ((3, 400, 5, -3), 0.6538270377733598), ((3, 400, 5, -5), 0.6538270377733598), ((4, 700, 6, -5), 0.6537442014579191), ((4, 400, 6, 0), 0.6537442014579191), ((4, 400, 6, -5), 0.6537442014579191), ((4, 400, 6, -1), 0.6537442014579191), ((4, 400, 6, -3), 0.6537442014579191), ((4, 700, 6, -1), 0.6537442014579191), ((4, 700, 6, -3), 0.6537442014579191), ((4, 700, 6, 0), 0.6537442014579191), ((5, 400, 6, -1), 0.6529158383035123), ((5, 400, 6, -5), 0.6529158383035123), ((5, 700, 7, -3), 0.6529158383035123), ((5, 700, 6, -3), 0.6529158383035123), ((5, 700, 6, -1), 0.6529158383035123), ((5, 400, 7, -3), 0.6529158383035123), ((5, 400, 7, -5), 0.6529158383035123), ((5, 400, 7, -1), 0.6529158383035123), ((5, 700, 7, -5), 0.6529158383035123), ((5, 700, 6, 0), 0.6529158383035123), ((5, 700, 7, 0), 0.6529158383035123), ((5, 400, 7, 0), 0.6529158383035123), ((5, 700, 6, -5), 0.6529158383035123), ((5, 700, 7, -1), 0.6529158383035123), ((5, 400, 6, 0), 0.6529158383035123), ((5, 400, 6, -3), 0.6529158383035123), ((4, 400, 5, 0), 0.6526673293571902), ((4, 700, 5, -5), 0.6526673293571902), ((4, 700, 5, -3), 0.6526673293571902), ((4, 400, 5, -3), 0.6526673293571902), ((4, 400, 5, -1), 0.6526673293571902), ((4, 400, 5, -5), 0.6526673293571902), ((4, 700, 5, 0), 0.6526673293571902), ((4, 700, 5, -1), 0.6526673293571902), ((5, 400, 5, -1), 0.651673293571902), ((5, 700, 5, -5), 0.651673293571902), ((5, 700, 5, -1), 0.651673293571902), ((5, 700, 5, 0), 0.651673293571902), ((5, 400, 5, -3), 0.651673293571902), ((5, 400, 5, -5), 0.651673293571902), ((5, 400, 5, 0), 0.651673293571902), ((5, 700, 5, -3), 0.651673293571902)]\n"
     ]
    }
   ],
   "source": [
    "import pandas  # used for importing the .csv files\n",
    "import operator\n",
    "import numpy as np # used for natural logs\n",
    "import datetime # used for dates\n",
    "hp_test = {} # set up a dictionary to hold the results of our optimization\n",
    "train_data = ['games2005.csv','games2006.csv','games2007.csv','games2008.csv','games2009.csv','games2010.csv','games2011.csv','games2012.csv','games2013.csv','games2014.csv']\n",
    "for hp1 in (3,4,5): # range to iterate over for the first hyperparameter, the scale 'k'\n",
    "    for hp2 in (400,700): # range for the spread hyperparameter\n",
    "        for hp3 in (5,6,7): # range for the effect homecourt advantage\n",
    "            for hp4 in (0,-1,-3,-5): # range for the effect of playing in a back to back\n",
    "                outcomes = [] # set up an array that will contain whether we correctly predictd the game or not  \n",
    "                for csv in train_data:\n",
    "                    data = pandas.read_csv(csv) # read in csv\n",
    "                    ID = {} # set up a dictionary that will be the place of storage for teams and their ratings\n",
    "                    for idx, row in data.iterrows(): # for each game....\n",
    "                        if data.loc[idx,'PTS']>data.loc[idx,'PTS.1']: # check who won the game, this is the case where the away team won\n",
    "                            winner = data.loc[idx,'Visitor/Neutral']; loser = data.loc[idx,'Home/Neutral']; # get the names of the winner and loser\n",
    "                            pd = data.loc[idx,'PTS'] - data.loc[idx,'PTS.1']; hm_i = 0 #get the point differential and signal whether home team won\n",
    "                        else: # do the same in the case where the home team won\n",
    "                            winner = data.loc[idx,'Home/Neutral']; loser = data.loc[idx,'Visitor/Neutral'];\n",
    "                            pd = data.loc[idx,'PTS.1'] - data.loc[idx,'PTS'];hm_i = 1\n",
    "                        game_date = datetime.datetime.strptime(data.loc[idx][\"Date\"],\"%a, %b %d, %Y\") # get the date of the game\n",
    "                        if winner in ID.keys(): # if the team has already played a game\n",
    "                            w_elo = ID[winner][0] # get their ranking\n",
    "                            if (ID[winner][1] - game_date).days == 1: w_date = 1 # check whether they are playing in a back-to-back game\n",
    "                            else: w_date = 0 \n",
    "                            w_games = ID[winner][2] # see how many previous games they've played\n",
    "                        else: # else initialize a new team\n",
    "                            w_elo = 1500\n",
    "                            w_date = 0\n",
    "                            w_games = 0\n",
    "                        if loser in ID.keys(): #do the same for the losing team\n",
    "                            l_elo = ID[loser][0]\n",
    "                            if (ID[loser][1] - game_date).days == 1: l_date = 1\n",
    "                            else: l_date = 0\n",
    "                            l_games = ID[loser][2]\n",
    "                        else: \n",
    "                            l_elo = 1500\n",
    "                            l_date = 0\n",
    "                            l_games = 0\n",
    "                        if hm_i == 1: w_elo_g = w_elo+hp3 + hp4*w_date; l_elo_g = l_elo + hp4*l_date # adjust the teams' elo rating for homecourt advantage and back to back\n",
    "                        else: l_elo_g = l_elo +hp3 + hp4*l_date; w_elo_g = w_elo + hp4*l_date;\n",
    "                        if w_elo_g>l_elo_g: outcomes.append(1) # if the model correctly predicted the game, add a one to the outcome vector\n",
    "                        if l_elo_g>w_elo_g: outcomes.append(0) # else add a zero\n",
    "                        w_new_elo = (w_elo+np.log(pd+1)*(2.2/((w_elo-l_elo)*.001+2.2))*hp1*(1-(1/(1+10**((l_elo_g-w_elo_g)/400))))) # update the winner's elo\n",
    "                        l_new_elo = (l_elo+np.log(pd+1)*(2.2/((w_elo-l_elo)*.001+2.2))*hp1*(0-(1/(1+10**((w_elo_g-l_elo_g)/400))))) # update the loser's elo\n",
    "                        ID[winner]=(w_new_elo,game_date,w_games + 1) # update the dictionary of teams to include a key of the team's name, and a value of (their elo score, the date of their last game, how many games they've played so far)\n",
    "                        ID[loser]=(l_new_elo,game_date,l_games + 1) # do the same for the losing team\n",
    "                hp_test[(hp1,hp2,hp3,hp4)] = (sum(outcomes)/float(len(outcomes))) # update the dictionary of results to include a key of all their hyperparameters and a value of the percent of games correctly predicted\n",
    "print (sorted(hp_test.items(), key=operator.itemgetter(1),reverse=True)) # print out the dictionary in order form most accurate to least accurate"
   ]
  }
 ],
 "metadata": {
  "kernelspec": {
   "display_name": "Python 2",
   "language": "python",
   "name": "python2"
  },
  "language_info": {
   "codemirror_mode": {
    "name": "ipython",
    "version": 2
   },
   "file_extension": ".py",
   "mimetype": "text/x-python",
   "name": "python",
   "nbconvert_exporter": "python",
   "pygments_lexer": "ipython2",
   "version": "2.7.9"
  }
 },
 "nbformat": 4,
 "nbformat_minor": 0
}
