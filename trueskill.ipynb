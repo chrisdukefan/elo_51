import pandas
import numpy as np
import datetime
def score_trueskill(mean1,var1,mean2,var2,csv): # define a new function that takes in hyperparameter values and returns the percent of games correctly predicted
    data = pandas.read_csv(csv)
    ID = {}
    outcomes = []
    for idx, row in data.iterrows():
        if data.loc[idx,'PTS']>data.loc[idx,'PTS.1']:
            winner = data.loc[idx,'Visitor/Neutral']; loser = data.loc[idx,'Home/Neutral'];
            pd = data.loc[idx,'PTS'] - data.loc[idx,'PTS.1']; hm_i = 0
        else:
            winner = data.loc[idx,'Home/Neutral']; loser = data.loc[idx,'Visitor/Neutral'];
            pd = data.loc[idx,'PTS.1'] - data.loc[idx,'PTS'];hm_i = 1
        game_date = datetime.datetime.strptime(data.loc[idx]["Date"],"%a, %b %d, %Y")
        if winner in ID.keys():
            w_elo = ID[winner][0]
            if (ID[winner][1] - game_date).days == 1: w_date = 1 
            else: w_date = 0
            w_games = ID[winner][2]
        else: 
            w_elo = 1500
            w_date = 0
            w_games = 0
        if loser in ID.keys():
            l_elo = ID[loser][0]
            if (ID[loser][1] - game_date).days == 1: l_date = 1
            else: l_date = 0
            l_games = ID[loser][2]
        else: 
            l_elo = 1500
            l_date = 0
            l_games = 0
        if hm_i == 1: w_elo = w_elo+hp3 + hp4*w_date; l_elo = l_elo + hp4*l_date
        else: l_elo = l_elo +hp3 + hp4*l_date; w_elo = w_elo + hp4*l_date;
        if w_elo>l_elo: outcomes.append(1)
        if l_elo>w_elo: outcomes.append(0)
        w_new_elo = (w_elo+np.log(pd+1)*(2.2/((w_elo-l_elo)*.001+2.2))*hp1*(1-(1/(1+10**((l_elo-w_elo)/400)))))
        l_new_elo = (l_elo+np.log(pd+1)*(2.2/((w_elo-l_elo)*.001+2.2))*hp1*(0-(1/(1+10**((w_elo-l_elo)/400)))))
        ID[winner]=(w_new_elo,game_date,w_games + 1);
        ID[loser]=(l_new_elo,game_date,l_games + 1)
    print (sum(outcomes)/float(len(outcomes)))
    print(ID)
score_trueskill(4,700,2,-.05,'games2015.csv') # run the function on the 2015 data with the given hyperparameters